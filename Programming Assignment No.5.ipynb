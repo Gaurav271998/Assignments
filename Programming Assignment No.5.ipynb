{
  "nbformat": 4,
  "nbformat_minor": 0,
  "metadata": {
    "colab": {
      "provenance": [],
      "collapsed_sections": [],
      "authorship_tag": "ABX9TyPQt7fp4jbEUstGBM4mo1sZ",
      "include_colab_link": true
    },
    "kernelspec": {
      "name": "python3",
      "display_name": "Python 3"
    },
    "language_info": {
      "name": "python"
    }
  },
  "cells": [
    {
      "cell_type": "markdown",
      "metadata": {
        "id": "view-in-github",
        "colab_type": "text"
      },
      "source": [
        "<a href=\"https://colab.research.google.com/github/Gaurav271998/Assignments/blob/main/Programming%20Assignment%20No.5.ipynb\" target=\"_parent\"><img src=\"https://colab.research.google.com/assets/colab-badge.svg\" alt=\"Open In Colab\"/></a>"
      ]
    },
    {
      "cell_type": "markdown",
      "source": [
        "Q.1) Write a Python Program to Find LCM?"
      ],
      "metadata": {
        "id": "pW37fu_oHnX_"
      }
    },
    {
      "cell_type": "code",
      "source": [
        "n1 = int(input(\"Enter the first number: \"))\n",
        "n2 = int(input(\"Enter the second number: \"))\n",
        "if n1 > n2:\n",
        "  Greater = n1\n",
        "else:\n",
        "  Greater = n2\n",
        "\n",
        "\n",
        "while True:\n",
        "      if Greater% n1 == 0 and Greater%n2 == 0:\n",
        "        LCM = Greater\n",
        "        break\n",
        "      Greater = Greater + 1\n",
        "print(\"The LCM of \", n1, \" and \", n2, \" is \", LCM)"
      ],
      "metadata": {
        "colab": {
          "base_uri": "https://localhost:8080/"
        },
        "id": "LUfoDVt8Hlls",
        "outputId": "50cfb341-72dd-407c-b4f0-3cb414ccde2d"
      },
      "execution_count": 9,
      "outputs": [
        {
          "output_type": "stream",
          "name": "stdout",
          "text": [
            "Enter the first number: 5\n",
            "Enter the second number: 25\n",
            "The LCM of  5  and  25  is  25\n"
          ]
        }
      ]
    },
    {
      "cell_type": "markdown",
      "source": [
        "Q.2) Write a Python Program to Find HCF?25"
      ],
      "metadata": {
        "id": "r-PnZhwNJ2Ez"
      }
    },
    {
      "cell_type": "code",
      "source": [
        "n1 = int(input(\"Enter the first number: \"))\n",
        "n2 = int(input(\"Enter the second number: \"))\n",
        "if n1 < n2:\n",
        "  Lesser = n1\n",
        "else:\n",
        "  Lesser = n2\n",
        "while True:\n",
        "      if n1% Lesser == 0 and n2%Lesser == 0:\n",
        "            HCF = Lesser\n",
        "            break\n",
        "      Lesser = Lesser - 1\n",
        "print(\"The HCF of \", n1, \" and \", n2, \" is \", HCF)"
      ],
      "metadata": {
        "colab": {
          "base_uri": "https://localhost:8080/"
        },
        "id": "VjAKLIBhJ5Y0",
        "outputId": "d64a834e-6548-48e6-9838-e02ca5ab2f85"
      },
      "execution_count": 10,
      "outputs": [
        {
          "output_type": "stream",
          "name": "stdout",
          "text": [
            "Enter the first number: 5\n",
            "Enter the second number: 25\n",
            "The HCF of  5  and  25  is  5\n"
          ]
        }
      ]
    },
    {
      "cell_type": "markdown",
      "source": [
        "Q.3) Write a Python Program to convert Decimal to Binary, Octal and Hexadecimal?"
      ],
      "metadata": {
        "id": "CzmGVQjFKlPU"
      }
    },
    {
      "cell_type": "code",
      "source": [
        "i = int(input(\"Enter an integer in decimal system: \"))\n",
        "print()\n",
        "b = bin(i)\n",
        "o = oct(i)\n",
        "h = hex(i)\n",
        "print(\"The decimal value of\", i, \"is: \", b[2::], \" in Binary system\")\n",
        "print(\"The decimal value of\", i, \"is: \", o[2::], \" in Octal system\")\n",
        "print(\"The decimal value of\", i, \"is: \", h[2::], \" in Hexadecimal system\")"
      ],
      "metadata": {
        "colab": {
          "base_uri": "https://localhost:8080/"
        },
        "id": "KhHVDB4zKqBA",
        "outputId": "727c93f8-5df2-41ed-ec21-b6044dd0e8e1"
      },
      "execution_count": 11,
      "outputs": [
        {
          "output_type": "stream",
          "name": "stdout",
          "text": [
            "Enter an integer in decimal system: 10\n",
            "\n",
            "The decimal value of 10 is:  1010  in Binary system\n",
            "The decimal value of 10 is:  12  in Octal system\n",
            "The decimal value of 10 is:  a  in Hexadecimal system\n"
          ]
        }
      ]
    },
    {
      "cell_type": "markdown",
      "source": [
        "Q.4) Write a Python Program To Find ASCII value of a character?\n"
      ],
      "metadata": {
        "id": "jIdG3T4VK03H"
      }
    },
    {
      "cell_type": "code",
      "source": [
        "Character = input(\"Enter the character for which you want ASCII value: \")\n",
        "print (\"The ASCII value of '\" + Character + \"' is\", ord(Character))"
      ],
      "metadata": {
        "colab": {
          "base_uri": "https://localhost:8080/"
        },
        "id": "xf0tTk74K4-L",
        "outputId": "3ea33163-eada-446e-d2fa-26a459e08347"
      },
      "execution_count": 12,
      "outputs": [
        {
          "output_type": "stream",
          "name": "stdout",
          "text": [
            "Enter the character for which you want ASCII value: #\n",
            "The ASCII value of '#' is 35\n"
          ]
        }
      ]
    },
    {
      "cell_type": "markdown",
      "source": [
        "Q.5) Write a Python Program to Make a Simple Calculator with 4 basic mathematical operations?\n"
      ],
      "metadata": {
        "id": "F6akU4HbLJiY"
      }
    },
    {
      "cell_type": "code",
      "source": [
        "def Addition(x, y):\n",
        "  return x + y\n",
        "def Subtraction(x, y):\n",
        "  return x - y\n",
        "def Multiplication(x, y):\n",
        "  return x * y\n",
        "def Division(x, y):\n",
        "  return x / y\n",
        "print(\"Select the type of operation you want to perform with the help of the calcualtor from the options given below:\")\n",
        "print(\"1. Addition\")\n",
        "print(\"2. Subtraction\")\n",
        "print(\"3. Multiplication\")\n",
        "print(\"4. Division\")\n",
        "while True:\n",
        "    Operation_Type = input(\"Enter the type of operation(1 or 2 or 3 or 4): \")\n",
        "    if Operation_Type in ('1', '2', '3', '4'):\n",
        "        n1 = float(input(\"Enter the first number: \"))\n",
        "        n2 = float(input(\"Enter the second number: \"))\n",
        "        if Operation_Type == '1':\n",
        "            print(n1, \"+\", n2, \"=\", Addition(n1, n2))\n",
        "        elif Operation_Type == '2':\n",
        "            print(n1, \"-\", n2, \"=\", Subtraction(n1, n2))\n",
        "        elif Operation_Type == '3':\n",
        "          print(n1, \"*\", n2, \"=\", Multiplication(n1, n2))\n",
        "        elif Operation_Type == '4':\n",
        "          print(n1, \"/\", n2, \"=\", Division(n1, n2))\n",
        "        Next_Calculation = input(\"Do you want to perform next calculation? (yes or no\")\n",
        "        if Next_Calculation == \"no\":\n",
        "            print(\"OK\")\n",
        "            break\n",
        "else:\n",
        "    print(\"Enter a valid operation type\")"
      ],
      "metadata": {
        "colab": {
          "base_uri": "https://localhost:8080/"
        },
        "id": "-V9pDhyoLPgu",
        "outputId": "17de0db4-8bc0-411e-a2ee-7e12b90956a6"
      },
      "execution_count": 14,
      "outputs": [
        {
          "output_type": "stream",
          "name": "stdout",
          "text": [
            "Select the type of operation you want to perform with the help of the calcualtor from the options given below:\n",
            "1. Addition\n",
            "2. Subtraction\n",
            "3. Multiplication\n",
            "4. Division\n",
            "Enter the type of operation(1 or 2 or 3 or 4): 1\n",
            "Enter the first number: 2\n",
            "Enter the second number: 3\n",
            "2.0 + 3.0 = 5.0\n",
            "Do you want to perform next calculation? (yes or noyes\n",
            "Enter the type of operation(1 or 2 or 3 or 4): 2\n",
            "Enter the first number: 25\n",
            "Enter the second number: 5\n",
            "25.0 - 5.0 = 20.0\n",
            "Do you want to perform next calculation? (yes or nono\n",
            "Have a nice day! SEE YOU AGAIN SOON\n"
          ]
        }
      ]
    },
    {
      "cell_type": "markdown",
      "source": [],
      "metadata": {
        "id": "Rigm7mZ5OFyu"
      }
    }
  ]
}