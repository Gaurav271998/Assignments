{
  "nbformat": 4,
  "nbformat_minor": 0,
  "metadata": {
    "colab": {
      "provenance": [],
      "authorship_tag": "ABX9TyPUUGHfZCRrYp2A/Uxe9iL3",
      "include_colab_link": true
    },
    "kernelspec": {
      "name": "python3",
      "display_name": "Python 3"
    },
    "language_info": {
      "name": "python"
    }
  },
  "cells": [
    {
      "cell_type": "markdown",
      "metadata": {
        "id": "view-in-github",
        "colab_type": "text"
      },
      "source": [
        "<a href=\"https://colab.research.google.com/github/Gaurav271998/Assignments/blob/main/Programming_Assignment_No_8.ipynb\" target=\"_parent\"><img src=\"https://colab.research.google.com/assets/colab-badge.svg\" alt=\"Open In Colab\"/></a>"
      ]
    },
    {
      "cell_type": "markdown",
      "source": [
        "Q.1) Write a Python Program to Add Two Matrices?\n"
      ],
      "metadata": {
        "id": "bGKoRLwyZ34q"
      }
    },
    {
      "cell_type": "code",
      "source": [
        "import numpy as np\n",
        "matrix1 = np.array([[1,2,3],\n",
        "[4,5,6],\n",
        "[7,8,9]])\n",
        "matrix2 = np.array([[9,8,7],\n",
        "[6,5,4],\n",
        "[3,2,1]])\n",
        "matrix_sum = np.add(matrix1,matrix2)\n",
        "print(\"The Sum of the matrices \\n\\n{} and \\n\\n{} is \\n\\n{} \".format(matrix1,matrix2,matrix_sum))"
      ],
      "metadata": {
        "colab": {
          "base_uri": "https://localhost:8080/"
        },
        "id": "9wghODivZ6lK",
        "outputId": "626155f8-f3be-4be3-83eb-6df6d0689632"
      },
      "execution_count": 1,
      "outputs": [
        {
          "output_type": "stream",
          "name": "stdout",
          "text": [
            "The Sum of the matrices \n",
            "\n",
            "[[1 2 3]\n",
            " [4 5 6]\n",
            " [7 8 9]] and \n",
            "\n",
            "[[9 8 7]\n",
            " [6 5 4]\n",
            " [3 2 1]] is \n",
            "\n",
            "[[10 10 10]\n",
            " [10 10 10]\n",
            " [10 10 10]] \n"
          ]
        }
      ]
    },
    {
      "cell_type": "markdown",
      "source": [
        "Q.2) Write a Python Program to Multiply Two Matrices?\n"
      ],
      "metadata": {
        "id": "T1a-V7jmaMdD"
      }
    },
    {
      "cell_type": "code",
      "source": [
        "import numpy as np\n",
        "matrix1 = np.array([[1,2,3],\n",
        "[4,5,6],\n",
        "[7,8,9]])\n",
        "matrix2 = np.array([[9,8,7],\n",
        "[6,5,4],\n",
        "[3,2,1]])\n",
        "matrix_product = np.dot(matrix1,matrix2)\n",
        "print(\"The Product of the matrices \\n\\n{} and \\n\\n{} is \\n\\n{} \".format(matrix1,matrix2,matrix_product))"
      ],
      "metadata": {
        "colab": {
          "base_uri": "https://localhost:8080/"
        },
        "id": "W5_kNJEBaR3f",
        "outputId": "82d12d66-b7cb-40ce-a6f3-06ea3a99c4f7"
      },
      "execution_count": 2,
      "outputs": [
        {
          "output_type": "stream",
          "name": "stdout",
          "text": [
            "The Product of the matrices \n",
            "\n",
            "[[1 2 3]\n",
            " [4 5 6]\n",
            " [7 8 9]] and \n",
            "\n",
            "[[9 8 7]\n",
            " [6 5 4]\n",
            " [3 2 1]] is \n",
            "\n",
            "[[ 30  24  18]\n",
            " [ 84  69  54]\n",
            " [138 114  90]] \n"
          ]
        }
      ]
    },
    {
      "cell_type": "markdown",
      "source": [
        "Q.3) Write a Python Program to Transpose a Matrix?\n"
      ],
      "metadata": {
        "id": "VUF6c4wDa14P"
      }
    },
    {
      "cell_type": "code",
      "source": [
        "import numpy as np\n",
        "matrix1 = np.array([[1,2,3],\n",
        "[4,5,6],\n",
        "[7,8,9]])\n",
        "matrix_transpose = np.transpose(matrix1)\n",
        "print(\"The Transpose of the matrix \\n\\n{} is \\n\\n{} \".format(matrix1,matrix_transpose))"
      ],
      "metadata": {
        "colab": {
          "base_uri": "https://localhost:8080/"
        },
        "id": "75vpBbk4a5uh",
        "outputId": "ef5ee85b-edaa-45a4-a489-9aced2b78a13"
      },
      "execution_count": 4,
      "outputs": [
        {
          "output_type": "stream",
          "name": "stdout",
          "text": [
            "The Transpose of the matrix \n",
            "\n",
            "[[1 2 3]\n",
            " [4 5 6]\n",
            " [7 8 9]] is \n",
            "\n",
            "[[1 4 7]\n",
            " [2 5 8]\n",
            " [3 6 9]] \n"
          ]
        }
      ]
    },
    {
      "cell_type": "markdown",
      "source": [
        "Q.4) Write a Python Program to Sort Words in Alphabetic Order?\n"
      ],
      "metadata": {
        "id": "e538jHSzbD2B"
      }
    },
    {
      "cell_type": "code",
      "source": [
        "def words_sorter():\n",
        "    user_input = input(\"Enter a string of words to sort them in alphabetical order: \")\n",
        "    print()\n",
        "    sorted_list = sorted(user_input.lower().split())\n",
        "    print(' '.join(sorted_list))\n",
        "words_sorter()"
      ],
      "metadata": {
        "colab": {
          "base_uri": "https://localhost:8080/"
        },
        "id": "_FJaziIJbIMr",
        "outputId": "3b251b6c-7cb3-4c3d-aed8-53dda410f493"
      },
      "execution_count": 5,
      "outputs": [
        {
          "output_type": "stream",
          "name": "stdout",
          "text": [
            "Enter a string of words to sort them in alphabetical order: any body can rock n roll \n",
            "\n",
            "any body can n rock roll\n"
          ]
        }
      ]
    },
    {
      "cell_type": "code",
      "source": [],
      "metadata": {
        "id": "2Xj6FvrGbOiK"
      },
      "execution_count": null,
      "outputs": []
    }
  ]
}