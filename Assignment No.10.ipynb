{
 "cells": [
  {
   "cell_type": "markdown",
   "id": "31e712c2",
   "metadata": {},
   "source": [
    "#### Q.1 How do you distinguish between shutil.copy() and shutil.copytree()?\n"
   ]
  },
  {
   "cell_type": "code",
   "execution_count": 1,
   "id": "c12a1502",
   "metadata": {},
   "outputs": [
    {
     "data": {
      "text/plain": [
       "'The shutil.copy() function copies a single file, while shutil.copytree() copies an entire folder, along with all of its\\ncontents.'"
      ]
     },
     "execution_count": 1,
     "metadata": {},
     "output_type": "execute_result"
    }
   ],
   "source": [
    "'''The shutil.copy() function copies a single file, while shutil.copytree() copies an entire folder, along with all of its\n",
    "contents.'''"
   ]
  },
  {
   "cell_type": "markdown",
   "id": "b6566ffc",
   "metadata": {},
   "source": [
    "#### Q.2 What function is used to rename files??\n"
   ]
  },
  {
   "cell_type": "code",
   "execution_count": 2,
   "id": "200addff",
   "metadata": {},
   "outputs": [
    {
     "data": {
      "text/plain": [
       "'The os.rename() function can be used to rename a file. It takes two arguments, the first one is the old name and\\nthe second one is the new name. The shutil.move() function can also be used for renaming files as well as\\nmoving them.'"
      ]
     },
     "execution_count": 2,
     "metadata": {},
     "output_type": "execute_result"
    }
   ],
   "source": [
    "'''The os.rename() function can be used to rename a file. It takes two arguments, the first one is the old name and\n",
    "the second one is the new name. The shutil.move() function can also be used for renaming files as well as\n",
    "moving them.'''"
   ]
  },
  {
   "cell_type": "markdown",
   "id": "ad4f3559",
   "metadata": {},
   "source": [
    "#### Q.3 What is the difference between the delete functions in the send2trash and shutil modules?\n"
   ]
  },
  {
   "cell_type": "code",
   "execution_count": 3,
   "id": "b1dfe8bc",
   "metadata": {},
   "outputs": [
    {
     "data": {
      "text/plain": [
       "'The send2trash function moves a file or folder to the recycle bin, while shutil function permanently deletes files\\nand folders.\\n'"
      ]
     },
     "execution_count": 3,
     "metadata": {},
     "output_type": "execute_result"
    }
   ],
   "source": [
    "'''The send2trash function moves a file or folder to the recycle bin, while shutil function permanently deletes files\n",
    "and folders.\n",
    "'''"
   ]
  },
  {
   "cell_type": "markdown",
   "id": "2527b1ba",
   "metadata": {},
   "source": [
    "#### Q.4 ZipFile objects have a close() method just like File objects’ close() method. What ZipFile method is equivalent to File objects’ open() method?\n"
   ]
  },
  {
   "cell_type": "code",
   "execution_count": 4,
   "id": "13248c0f",
   "metadata": {},
   "outputs": [
    {
     "data": {
      "text/plain": [
       "'The zipfile.ZipFile() function is equivalent to the open() function; the first argument is the filename, and the\\nsecond argument is the mode to open the ZIP file in read mode, write mode, or append mode.'"
      ]
     },
     "execution_count": 4,
     "metadata": {},
     "output_type": "execute_result"
    }
   ],
   "source": [
    "'''The zipfile.ZipFile() function is equivalent to the open() function; the first argument is the filename, and the\n",
    "second argument is the mode to open the ZIP file in read mode, write mode, or append mode.'''"
   ]
  },
  {
   "cell_type": "markdown",
   "id": "4656819d",
   "metadata": {},
   "source": [
    "### Q.5 Create a programme that searches a folder tree for files with a certain file extension (such as .pdf or .jpg). Copy these files from whatever location they are in to a new folder."
   ]
  },
  {
   "cell_type": "code",
   "execution_count": 12,
   "id": "5e9a9a1c",
   "metadata": {},
   "outputs": [
    {
     "ename": "IndentationError",
     "evalue": "expected an indented block (2954136639.py, line 18)",
     "output_type": "error",
     "traceback": [
      "\u001b[1;36m  Input \u001b[1;32mIn [12]\u001b[1;36m\u001b[0m\n\u001b[1;33m    Source_Path_Files_To_Be_Copied = os.path.join(FolderName, FileName)\u001b[0m\n\u001b[1;37m    ^\u001b[0m\n\u001b[1;31mIndentationError\u001b[0m\u001b[1;31m:\u001b[0m expected an indented block\n"
     ]
    }
   ],
   "source": [
    "def SEARCH_AND_COPY():\n",
    "    \"\"\"\n",
    "    It is a function that searches a folder tree for files with a certain file extension\n",
    "    (such as .pdf or .jpg) and Copy these files from whatever location they are in to a n\n",
    "    ew folder.\n",
    "    It takes following three inputs:\n",
    "    It takes Source_Path as input (Follow double forward slash to give input).\n",
    "    It takes Type_Of_File_Extension as input.\n",
    "    It takes Destination_Path as input (Follow double forward slash to give input).\n",
    "    \"\"\"\n",
    "    import os, shutil\n",
    "    Source_Path = input(\"Enter the absolute path of the source directory that you want to be searched: \")\n",
    "    Type_Of_File_Extension = input(\"Enter the type of file to copy (such as .pdf or .jpg):\").lower()\n",
    "    Destination_Path = input(\"Enter the absolute path of the destination directory whereyou want the searched files to be copied: \")\n",
    "    for FolderName, SubFolders, FileNames in os.walk(Source_Path):\n",
    "        for FileName in FileNames:\n",
    "            if FileName.lower().endswith(Type_Of_File_Extension):\n",
    "            Source_Path_Files_To_Be_Copied = os.path.join(FolderName, FileName)\n",
    "            shutil.copy(Source_Path_Files_To_Be_Copied, Destination_Path)\n",
    "            else:\n",
    "                continue\n",
    "SEARCH_AND_COPY()\n"
   ]
  },
  {
   "cell_type": "code",
   "execution_count": null,
   "id": "8c11fa28",
   "metadata": {},
   "outputs": [],
   "source": []
  }
 ],
 "metadata": {
  "kernelspec": {
   "display_name": "Python 3 (ipykernel)",
   "language": "python",
   "name": "python3"
  },
  "language_info": {
   "codemirror_mode": {
    "name": "ipython",
    "version": 3
   },
   "file_extension": ".py",
   "mimetype": "text/x-python",
   "name": "python",
   "nbconvert_exporter": "python",
   "pygments_lexer": "ipython3",
   "version": "3.9.12"
  }
 },
 "nbformat": 4,
 "nbformat_minor": 5
}
