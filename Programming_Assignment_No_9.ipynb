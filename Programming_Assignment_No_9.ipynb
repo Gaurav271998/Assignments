{
 "cells": [
  {
   "cell_type": "markdown",
   "id": "9e29368e",
   "metadata": {},
   "source": [
    "Q.1) Write a Python program to check if the given number is a Disarium Number?\n"
   ]
  },
  {
   "cell_type": "code",
   "execution_count": 5,
   "id": "12301054",
   "metadata": {},
   "outputs": [
    {
     "name": "stdout",
     "output_type": "stream",
     "text": [
      "Enter the number you want to check if it is a Disarium Number or not: 12\n",
      "12  is not a Disarium Number\n"
     ]
    }
   ],
   "source": [
    "def DisNum(x):\n",
    "    \"\"\"\n",
    "    It is a function to check if a number is a Disarium Number or not.\n",
    "    NOTE: A number is said to be the Disarium number when the sum of its digit raised to\n",
    "    the power of their respective positions becomes equal to the number itself.\n",
    "    It takes positive integer as an input.\n",
    "    \"\"\"\n",
    "\n",
    "    SUM = 0\n",
    "    count = 1\n",
    "    for i in str(x):\n",
    "        SUM = SUM + ((int(i))**count)\n",
    "        count = count + 1\n",
    "    if SUM == x:\n",
    "        print(x, \" is a Disarium Number\")\n",
    "    else:\n",
    "        print(x, \" is not a Disarium Number\")\n",
    "x = int(input(\"Enter the number you want to check if it is a Disarium Number or not: \"))\n",
    "DisNum(x)"
   ]
  },
  {
   "cell_type": "markdown",
   "id": "0de422d1",
   "metadata": {},
   "source": [
    "Q.2) Write a Python program to print all disarium numbers between 1 to 100?\n"
   ]
  },
  {
   "cell_type": "code",
   "execution_count": 6,
   "id": "f84fc485",
   "metadata": {},
   "outputs": [
    {
     "name": "stdout",
     "output_type": "stream",
     "text": [
      "1\n",
      "2\n",
      "3\n",
      "4\n",
      "5\n",
      "6\n",
      "7\n",
      "8\n",
      "9\n",
      "89\n"
     ]
    }
   ],
   "source": [
    "def DisNum(x):\n",
    "        \"\"\"\n",
    "        It is a function to print all Disarium numbers between 1 to 100.\n",
    "        \"\"\"\n",
    "        SUM = 0\n",
    "        count = 1\n",
    "        for i in str(x):\n",
    "            SUM = SUM + ((int(i))**count)\n",
    "            count = count + 1\n",
    "        if SUM == x:\n",
    "            return SUM\n",
    "CHECK = 0\n",
    "for i in range(1, 101):\n",
    "    CHECK =DisNum(i)\n",
    "    if CHECK == i:\n",
    "        print(i)"
   ]
  },
  {
   "cell_type": "markdown",
   "id": "72e5f0c7",
   "metadata": {},
   "source": [
    "Q.3)Write a Python program to check if the given number is Happy Number?\n"
   ]
  },
  {
   "cell_type": "code",
   "execution_count": 7,
   "id": "d71f811b",
   "metadata": {},
   "outputs": [
    {
     "name": "stdout",
     "output_type": "stream",
     "text": [
      "Enter the number you want to check if it is a Happy Number or not: 30\n",
      "30  is not a Nappy Number\n"
     ]
    }
   ],
   "source": [
    "def HapNum(x):\n",
    "        \"\"\"\n",
    "        It is a function to check if the given number is Happy Number or not.\n",
    "        NOTE:\n",
    "        A number is said to be happy if it yields 1 when replaced by the sum of squares of it\n",
    "        s digits repeatedly.\n",
    "        If this process results in an endless cycle of numbers containing 4, then the number\n",
    "        will be an unhappy number.\n",
    "        It takes poditive integer as an input.\n",
    "        \"\"\"\n",
    "        SUM = 0\n",
    "        for i in str(x):\n",
    "            SUM = SUM + ((int(i))**2)\n",
    "        return SUM\n",
    "\n",
    "v = int(input(\"Enter the number you want to check if it is a Happy Number or not: \"))\n",
    "CHECK = v\n",
    "while CHECK != 1 and CHECK != 4:\n",
    "    CHECK = HapNum(CHECK)\n",
    "\n",
    "if CHECK == 1:\n",
    "    print(v, \" is a Happy Number\")\n",
    "elif CHECK == 4:\n",
    "    print(v,\" is not a Nappy Number\")"
   ]
  },
  {
   "cell_type": "markdown",
   "id": "5f566cef",
   "metadata": {},
   "source": [
    "Q.4) Write a Python program to print all happy numbers between 1 and 100?\n"
   ]
  },
  {
   "cell_type": "code",
   "execution_count": 9,
   "id": "85c4e801",
   "metadata": {},
   "outputs": [
    {
     "name": "stdout",
     "output_type": "stream",
     "text": [
      "List of happy numbers between 1 and 100: \n",
      "1\n",
      "7\n",
      "10\n",
      "13\n",
      "19\n",
      "23\n",
      "28\n",
      "31\n",
      "32\n",
      "44\n",
      "49\n",
      "68\n",
      "70\n",
      "79\n",
      "82\n",
      "86\n",
      "91\n",
      "94\n",
      "97\n",
      "100\n"
     ]
    }
   ],
   "source": [
    "def HapNum(x):\n",
    "        \"\"\"\n",
    "        It is a function to print Happy Numbers between 1 and 100.\n",
    "        \"\"\"\n",
    "        SUM = 0\n",
    "        for i in str(x):\n",
    "            SUM = SUM + ((int(i))**2)\n",
    "        return SUM\n",
    "print(\"List of happy numbers between 1 and 100: \")\n",
    "for i in range(1, 101):\n",
    "    CHECK = i\n",
    "    while CHECK != 1 and CHECK != 4:\n",
    "        CHECK = HapNum(CHECK)\n",
    "    if CHECK == 1:\n",
    "        print(i)\n"
   ]
  },
  {
   "cell_type": "markdown",
   "id": "4c50465c",
   "metadata": {},
   "source": [
    "Q.5) Write a Python program to determine whether the given number is a Harshad Number?\n"
   ]
  },
  {
   "cell_type": "code",
   "execution_count": 10,
   "id": "20db1c3a",
   "metadata": {},
   "outputs": [
    {
     "name": "stdout",
     "output_type": "stream",
     "text": [
      "Enter the number you want to verify if it is a Harshad Number or not: 150\n",
      "150  is a Harshad Number\n"
     ]
    }
   ],
   "source": [
    "def HarNum(x):\n",
    "    \"\"\"\n",
    "    It is a function to determine whether the given number is a Harshad Number, also call\n",
    "    ed as Niven Number, or not.\n",
    "    It takes positive integer as an input\n",
    "    \"\"\"\n",
    "    SUM = 0\n",
    "    for i in str(x):\n",
    "        SUM = SUM + int(i)\n",
    "    if x % SUM == 0:\n",
    "        print(x, \" is a Harshad Number\")\n",
    "    else:\n",
    "        print(x, \" is not a Harshad Number\")\n",
    "x = int(input(\"Enter the number you want to verify if it is a Harshad Number or not: \"))\n",
    "HarNum(x)"
   ]
  },
  {
   "cell_type": "markdown",
   "id": "0f335fe1",
   "metadata": {},
   "source": [
    "Q.6) Write a Python program to print all pronic numbers between 1 and 100?\n"
   ]
  },
  {
   "cell_type": "code",
   "execution_count": 11,
   "id": "1ac9876b",
   "metadata": {},
   "outputs": [
    {
     "name": "stdout",
     "output_type": "stream",
     "text": [
      "2\n",
      "6\n",
      "12\n",
      "20\n",
      "30\n",
      "42\n",
      "56\n",
      "72\n",
      "90\n"
     ]
    }
   ],
   "source": [
    "def PronicPrint(x):\n",
    "    \"\"\"\n",
    "    It is a function to print all pronic numbers between 1 and 100.\n",
    "    \"\"\"\n",
    "    for i in range(1, 101):\n",
    "        if type(i*(i+1)) == int and (i*(i+1)) < 100:\n",
    "            print(i*(i+1))\n",
    "PronicPrint(x)\n"
   ]
  },
  {
   "cell_type": "code",
   "execution_count": null,
   "id": "3c1b9007",
   "metadata": {},
   "outputs": [],
   "source": []
  }
 ],
 "metadata": {
  "kernelspec": {
   "display_name": "Python 3 (ipykernel)",
   "language": "python",
   "name": "python3"
  },
  "language_info": {
   "codemirror_mode": {
    "name": "ipython",
    "version": 3
   },
   "file_extension": ".py",
   "mimetype": "text/x-python",
   "name": "python",
   "nbconvert_exporter": "python",
   "pygments_lexer": "ipython3",
   "version": "3.9.12"
  }
 },
 "nbformat": 4,
 "nbformat_minor": 5
}
