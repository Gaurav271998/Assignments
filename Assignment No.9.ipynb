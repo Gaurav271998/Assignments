{
 "cells": [
  {
   "cell_type": "markdown",
   "id": "a045a915",
   "metadata": {},
   "source": [
    "#### Q.1 To what does a relative path refer?"
   ]
  },
  {
   "cell_type": "code",
   "execution_count": 1,
   "id": "76113e2b",
   "metadata": {},
   "outputs": [
    {
     "data": {
      "text/plain": [
       "'A relative path refer to the path to some file or folder with respect to the current working directory.\\nFor example: If absolute path is C:/users/admin/INEURON/FSDS.txt, and the present working directory is\\nC:/users/admin/ , then the relative path to FSDS.txt would be: INEURON/FSDS.txt.'"
      ]
     },
     "execution_count": 1,
     "metadata": {},
     "output_type": "execute_result"
    }
   ],
   "source": [
    "'''A relative path refer to the path to some file or folder with respect to the current working directory.\n",
    "For example: If absolute path is C:/users/admin/INEURON/FSDS.txt, and the present working directory is\n",
    "C:/users/admin/ , then the relative path to FSDS.txt would be: INEURON/FSDS.txt.'''"
   ]
  },
  {
   "cell_type": "markdown",
   "id": "83e6c42d",
   "metadata": {},
   "source": [
    "#### Q.2 What does an absolute path start with your operating system?"
   ]
  },
  {
   "cell_type": "code",
   "execution_count": 2,
   "id": "b58b49aa",
   "metadata": {},
   "outputs": [
    {
     "data": {
      "text/plain": [
       "'Absolute paths start with the root folder, such as / or C:'"
      ]
     },
     "execution_count": 2,
     "metadata": {},
     "output_type": "execute_result"
    }
   ],
   "source": [
    "'''Absolute paths start with the root folder, such as / or C:\\\n",
    "'''"
   ]
  },
  {
   "cell_type": "markdown",
   "id": "f5658968",
   "metadata": {},
   "source": [
    "#### Q.3 What do the functions os.getcwd() and os.chdir() do?\n"
   ]
  },
  {
   "cell_type": "code",
   "execution_count": 3,
   "id": "2f43a027",
   "metadata": {},
   "outputs": [
    {
     "data": {
      "text/plain": [
       "'os.getcwd() helps us to know the current working directory. os.chdir() helps us to change the current working\\ndirectory.'"
      ]
     },
     "execution_count": 3,
     "metadata": {},
     "output_type": "execute_result"
    }
   ],
   "source": [
    "'''os.getcwd() helps us to know the current working directory. os.chdir() helps us to change the current working\n",
    "directory.'''"
   ]
  },
  {
   "cell_type": "markdown",
   "id": "af4b33a9",
   "metadata": {},
   "source": [
    "#### Q.4 What are the . and .. folders?\n"
   ]
  },
  {
   "cell_type": "code",
   "execution_count": 4,
   "id": "baa5f4df",
   "metadata": {},
   "outputs": [
    {
     "data": {
      "text/plain": [
       "'The . folder is the current folder. The .. is the parent folder.\\n'"
      ]
     },
     "execution_count": 4,
     "metadata": {},
     "output_type": "execute_result"
    }
   ],
   "source": [
    "'''The . folder is the current folder. The .. is the parent folder.\n",
    "'''"
   ]
  },
  {
   "cell_type": "markdown",
   "id": "151e8988",
   "metadata": {},
   "source": [
    "#### Q.5 In C:\\bacon\\eggs\\spam.txt, which part is the dir name, and which part is the base name?\n"
   ]
  },
  {
   "cell_type": "code",
   "execution_count": 5,
   "id": "e3fffd2d",
   "metadata": {},
   "outputs": [
    {
     "data": {
      "text/plain": [
       "'C:\\x08acon\\\\eggs is the dir name, while spam.txt is the base name.\\n'"
      ]
     },
     "execution_count": 5,
     "metadata": {},
     "output_type": "execute_result"
    }
   ],
   "source": [
    "'''C:\\bacon\\eggs is the dir name, while spam.txt is the base name.\n",
    "'''"
   ]
  },
  {
   "cell_type": "markdown",
   "id": "41576904",
   "metadata": {},
   "source": [
    "#### Q.6 What are the three “mode” arguments that can be passed to the open() function?\n"
   ]
  },
  {
   "cell_type": "code",
   "execution_count": 6,
   "id": "a1b0b5c6",
   "metadata": {},
   "outputs": [
    {
     "data": {
      "text/plain": [
       "\"The string 'r' for read mode, 'w' for write mode, and 'a' for append mode are the three “mode” arguments that\\ncan be passed to the open() function\""
      ]
     },
     "execution_count": 6,
     "metadata": {},
     "output_type": "execute_result"
    }
   ],
   "source": [
    "'''The string 'r' for read mode, 'w' for write mode, and 'a' for append mode are the three “mode” arguments that\n",
    "can be passed to the open() function'''"
   ]
  },
  {
   "cell_type": "markdown",
   "id": "2d19ab56",
   "metadata": {},
   "source": [
    "#### Q.7 What happens if an existing file is opened in write mode?\n"
   ]
  },
  {
   "cell_type": "code",
   "execution_count": 7,
   "id": "fa8c06e3",
   "metadata": {},
   "outputs": [
    {
     "data": {
      "text/plain": [
       "'If an existing file is opened in write mode, then the existing file is erased and completely overwritten.'"
      ]
     },
     "execution_count": 7,
     "metadata": {},
     "output_type": "execute_result"
    }
   ],
   "source": [
    "'''If an existing file is opened in write mode, then the existing file is erased and completely overwritten.'''"
   ]
  },
  {
   "cell_type": "markdown",
   "id": "360adc28",
   "metadata": {},
   "source": [
    "#### Q.8 How do you tell the difference between read() and readlines()?\n"
   ]
  },
  {
   "cell_type": "code",
   "execution_count": 8,
   "id": "3c34dc05",
   "metadata": {},
   "outputs": [
    {
     "data": {
      "text/plain": [
       "'The read() method returns the file’s entire contents as a single string value, while the readlines() method returns\\na list of strings, where each string is a line from the file’s contents.\\n'"
      ]
     },
     "execution_count": 8,
     "metadata": {},
     "output_type": "execute_result"
    }
   ],
   "source": [
    "'''The read() method returns the file’s entire contents as a single string value, while the readlines() method returns\n",
    "a list of strings, where each string is a line from the file’s contents.\n",
    "'''"
   ]
  },
  {
   "cell_type": "markdown",
   "id": "34c3d6b8",
   "metadata": {},
   "source": [
    "#### Q.9 What data structure does a shelf value resemble?\n"
   ]
  },
  {
   "cell_type": "code",
   "execution_count": 9,
   "id": "61c13f51",
   "metadata": {},
   "outputs": [
    {
     "data": {
      "text/plain": [
       "'A shelf value resembles a dictionary value; it has keys and values, along with keys() and values() methods that\\nwork similarly to the dictionary methods of the same names.'"
      ]
     },
     "execution_count": 9,
     "metadata": {},
     "output_type": "execute_result"
    }
   ],
   "source": [
    "'''A shelf value resembles a dictionary value; it has keys and values, along with keys() and values() methods that\n",
    "work similarly to the dictionary methods of the same names.'''"
   ]
  },
  {
   "cell_type": "code",
   "execution_count": null,
   "id": "049cc36e",
   "metadata": {},
   "outputs": [],
   "source": []
  }
 ],
 "metadata": {
  "kernelspec": {
   "display_name": "Python 3 (ipykernel)",
   "language": "python",
   "name": "python3"
  },
  "language_info": {
   "codemirror_mode": {
    "name": "ipython",
    "version": 3
   },
   "file_extension": ".py",
   "mimetype": "text/x-python",
   "name": "python",
   "nbconvert_exporter": "python",
   "pygments_lexer": "ipython3",
   "version": "3.9.12"
  }
 },
 "nbformat": 4,
 "nbformat_minor": 5
}
