{
 "cells": [
  {
   "cell_type": "markdown",
   "id": "edcc8fc6",
   "metadata": {},
   "source": [
    "### Q.1 What is the name of the feature responsible for generating Regex objects?"
   ]
  },
  {
   "cell_type": "code",
   "execution_count": 1,
   "id": "76f47730",
   "metadata": {},
   "outputs": [
    {
     "name": "stdout",
     "output_type": "stream",
     "text": [
      "<class 're.Pattern'>\n",
      "re.compile('I_love_milkybar_chocolates')\n"
     ]
    }
   ],
   "source": [
    "import re\n",
    "variable = re.compile(\"I_love_milkybar_chocolates\")\n",
    "print(type(variable))\n",
    "print(variable)\n"
   ]
  },
  {
   "cell_type": "markdown",
   "id": "fea12fe6",
   "metadata": {},
   "source": [
    "### Q2. Why do raw strings often appear in Regex objects?\n"
   ]
  },
  {
   "cell_type": "code",
   "execution_count": 2,
   "id": "bf635a0b",
   "metadata": {},
   "outputs": [
    {
     "data": {
      "text/plain": [
       "'Regular expressions use the backslash character (\\'\\') to indicate special forms (Metacharacters) or to\\nallow special characters (speical sequences ) to be used without invoking their special meaning. Thiscollides with Python’s usage of the same character for the same purpose in string literals. Hence, Raw strings\\nare used (e.g. r\"\\n\") so that backslashes do not have to be escaped.'"
      ]
     },
     "execution_count": 2,
     "metadata": {},
     "output_type": "execute_result"
    }
   ],
   "source": [
    "'''Regular expressions use the backslash character ('\\') to indicate special forms (Metacharacters) or to\n",
    "allow special characters (speical sequences ) to be used without invoking their special meaning. Thiscollides with Python’s usage of the same character for the same purpose in string literals. Hence, Raw strings\n",
    "are used (e.g. r\"\\n\") so that backslashes do not have to be escaped.'''"
   ]
  },
  {
   "cell_type": "markdown",
   "id": "1434d524",
   "metadata": {},
   "source": [
    "### Q.3 . What is the return value of the search() method?"
   ]
  },
  {
   "cell_type": "code",
   "execution_count": 3,
   "id": "a8d3a2b8",
   "metadata": {},
   "outputs": [
    {
     "name": "stdout",
     "output_type": "stream",
     "text": [
      "Output: <re.Match object; span=(13, 14), match='S'>\n",
      "Output: None\n"
     ]
    }
   ],
   "source": [
    "import re\n",
    "string = 'Ineuron Full Stack Data Science Program is truely awesome'\n",
    "pattern_1 = 's'\n",
    "pattern_2 = 'Z'\n",
    "match = re.search(pattern_1, string, flags=re.IGNORECASE)\n",
    "print('Output:',match)\n",
    "match = re.search(pattern_2, string, flags=re.IGNORECASE)\n",
    "print('Output:',match)"
   ]
  },
  {
   "cell_type": "markdown",
   "id": "c0956ce7",
   "metadata": {},
   "source": [
    "### Q.4 From a Match item, how do you get the actual strings that match the pattern?"
   ]
  },
  {
   "cell_type": "code",
   "execution_count": 5,
   "id": "8cfb7fb2",
   "metadata": {},
   "outputs": [
    {
     "name": "stdout",
     "output_type": "stream",
     "text": [
      "Output: Ineuron is helping\n"
     ]
    }
   ],
   "source": [
    "import re\n",
    "pattern = \"Ineuron is helping\"\n",
    "string = \"The full stack data science program of Ineuron is helping me to build self-confidence for a successful career transition\"\n",
    "match = re.search(pattern, string)\n",
    "print('Output:',match.group())\n"
   ]
  },
  {
   "cell_type": "markdown",
   "id": "daf65c50",
   "metadata": {},
   "source": [
    "### Q.5 In the regex which created from the r'(\\d\\d\\d)-(\\d\\d\\d-\\d\\d\\d\\d)', what does group zero cover Group 2? Group 1?"
   ]
  },
  {
   "cell_type": "code",
   "execution_count": 6,
   "id": "2e225162",
   "metadata": {},
   "outputs": [
    {
     "name": "stdout",
     "output_type": "stream",
     "text": [
      "('343', '678-9674')\n",
      "343-678-9674\n",
      "343\n",
      "678-9674\n"
     ]
    }
   ],
   "source": [
    "# Example\n",
    "import re\n",
    "phoneNumRegex = re.compile(r'(\\d\\d\\d)-(\\d\\d\\d-\\d\\d\\d\\d)')\n",
    "mo = phoneNumRegex.search('My contact number is 343-678-9674.')\n",
    "print(mo.groups()) # Prints all groups in a tuple format\n",
    "print(mo.group()) # Always returns the fully matched string\n",
    "print(mo.group(1)) # Returns the first group\n",
    "print(mo.group(2)) # Returns the second group"
   ]
  },
  {
   "cell_type": "markdown",
   "id": "23388770",
   "metadata": {},
   "source": [
    "### Q.6 In standard expression syntax, parentheses and intervals have distinct meanings. How can you tell a regex that you want it to fit real parentheses and periods?"
   ]
  },
  {
   "cell_type": "code",
   "execution_count": 7,
   "id": "381a1251",
   "metadata": {},
   "outputs": [
    {
     "data": {
      "text/plain": [
       "'Periods and parentheses can be escaped with a backslash: \\\\. , \\\\( , and \\\\) .\\n'"
      ]
     },
     "execution_count": 7,
     "metadata": {},
     "output_type": "execute_result"
    }
   ],
   "source": [
    "'''Periods and parentheses can be escaped with a backslash: \\. , \\( , and \\) .\n",
    "'''"
   ]
  },
  {
   "cell_type": "markdown",
   "id": "c112205e",
   "metadata": {},
   "source": [
    "### Q.7 The findall() method returns a string list or a list of string tuples. What causes it to return one of the two options?\n"
   ]
  },
  {
   "cell_type": "code",
   "execution_count": 8,
   "id": "81d2a79e",
   "metadata": {},
   "outputs": [
    {
     "name": "stdout",
     "output_type": "stream",
     "text": [
      "[('(343)', '678-9674')]\n",
      "['343-678-9674']\n"
     ]
    }
   ],
   "source": [
    "# Example Program\n",
    "import re\n",
    "phoneNumRegex = re.compile(r'(\\(\\d\\d\\d\\))-(\\d\\d\\d-\\d\\d\\d\\d)')\n",
    "mo = phoneNumRegex.findall('My phone number is (343)-678-9674.')\n",
    "print(mo)\n",
    "# Example Program\n",
    "import re\n",
    "phoneNumRegex = re.compile(r'\\d{3}-\\d{3}-\\d{4}')\n",
    "mo = phoneNumRegex.findall('My number is 343-678-9674.')\n",
    "print(mo) # Prints all groups in a tuple format"
   ]
  },
  {
   "cell_type": "markdown",
   "id": "bb6621da",
   "metadata": {},
   "source": [
    "### Q.8 In standard expressions, what does the | character mean?"
   ]
  },
  {
   "cell_type": "code",
   "execution_count": 9,
   "id": "c0727389",
   "metadata": {},
   "outputs": [],
   "source": [
    "# In standard expressions, the character | means OR operator.\n",
    "# The | character is called a pipe. One can use it anywhere you want to match one of many expressions.\n",
    "# For example, the regular expression r'Banana|Apple Fruit' will match either 'Banana' or 'Apple\n",
    "# Fruit' .\n",
    "# When both Banana and Apple Fruit occur in the searched string, the first occurrence of matching text will be\n",
    "# returned as the Match object.\n",
    "# The | character signifies matching “either, or” between two groups.\n"
   ]
  },
  {
   "cell_type": "code",
   "execution_count": 10,
   "id": "5e274624",
   "metadata": {},
   "outputs": [
    {
     "data": {
      "text/plain": [
       "'Banana'"
      ]
     },
     "execution_count": 10,
     "metadata": {},
     "output_type": "execute_result"
    }
   ],
   "source": [
    "fruitRegex = re.compile (r'Banana|Apple Fruit')\n",
    "mo1 = fruitRegex.search('Banana and Apple Fruit')\n",
    "mo1.group()"
   ]
  },
  {
   "cell_type": "code",
   "execution_count": 11,
   "id": "1ab394ac",
   "metadata": {},
   "outputs": [
    {
     "data": {
      "text/plain": [
       "'Apple Fruit'"
      ]
     },
     "execution_count": 11,
     "metadata": {},
     "output_type": "execute_result"
    }
   ],
   "source": [
    "mo2 = fruitRegex.search('Apple Fruit and Banana')\n",
    "mo2.group()\n"
   ]
  },
  {
   "cell_type": "markdown",
   "id": "0bf2d10d",
   "metadata": {},
   "source": [
    "### Q.9 In regular expressions, what does the character ? stand for?"
   ]
  },
  {
   "cell_type": "code",
   "execution_count": 12,
   "id": "ca013c48",
   "metadata": {},
   "outputs": [],
   "source": [
    "# In regular expressions, the ? character can either mean “match zero or one of the preceding group”.\n",
    "# Sometimes there is a pattern that you want to match only optionally. That is, the regex should find a match\n",
    "# regardless of whether that bit of text is there. The ? character flags the group that precedes it as an optional\n",
    "# part of the pattern.\n"
   ]
  },
  {
   "cell_type": "code",
   "execution_count": 13,
   "id": "10a43b1a",
   "metadata": {},
   "outputs": [
    {
     "data": {
      "text/plain": [
       "'Batman'"
      ]
     },
     "execution_count": 13,
     "metadata": {},
     "output_type": "execute_result"
    }
   ],
   "source": [
    "batRegex = re.compile(r'Bat(wo)?man')\n",
    "mo1 = batRegex.search('The Adventures of Batman')\n",
    "mo1.group()\n"
   ]
  },
  {
   "cell_type": "code",
   "execution_count": 14,
   "id": "2a7de773",
   "metadata": {},
   "outputs": [
    {
     "data": {
      "text/plain": [
       "'Batwoman'"
      ]
     },
     "execution_count": 14,
     "metadata": {},
     "output_type": "execute_result"
    }
   ],
   "source": [
    "mo2 = batRegex.search('The Adventures of Batwoman')\n",
    "mo2.group()\n"
   ]
  },
  {
   "cell_type": "markdown",
   "id": "7565a5bb",
   "metadata": {},
   "source": [
    "### Q.10 In regular expressions, what is the difference between the + and *characters?\n"
   ]
  },
  {
   "cell_type": "code",
   "execution_count": 15,
   "id": "b765667d",
   "metadata": {},
   "outputs": [
    {
     "name": "stdout",
     "output_type": "stream",
     "text": [
      "<re.Match object; span=(0, 6), match='Batman'>\n",
      "None\n"
     ]
    }
   ],
   "source": [
    "import re\n",
    "match_1 = re.search(\"Bat(wo)*man\",\"Batman returns\")\n",
    "print(match_1)\n",
    "match_2 = re.search(\"Bat(wo)+man\",\"Batman returns\")\n",
    "print(match_2)"
   ]
  },
  {
   "cell_type": "markdown",
   "id": "d7d9ede7",
   "metadata": {},
   "source": [
    "### Q.11 What is the difference between {4} and {4,5} in regular expression?"
   ]
  },
  {
   "cell_type": "code",
   "execution_count": 16,
   "id": "a5b61736",
   "metadata": {},
   "outputs": [
    {
     "name": "stdout",
     "output_type": "stream",
     "text": [
      "HaHaHaHa\n",
      "None\n",
      "HaHaHaHa\n",
      "HaHaHaHa\n",
      "None\n",
      "HaHaHaHaHa\n"
     ]
    }
   ],
   "source": [
    "import re\n",
    "haRegex1 = re.compile(r'(Ha){4}')\n",
    "haRegex2 = re.compile(r'(Ha){4,5}')\n",
    "mo1 = haRegex1.search('HaHaHaHa')\n",
    "mo2 = haRegex1.search('Ha')\n",
    "mo3 = haRegex1.search('HaHaHaHaHaHaHaHa')\n",
    "print(mo1.group())\n",
    "print(mo2)\n",
    "print(mo3.group())\n",
    "mo4 = haRegex2.search('HaHaHaHa')\n",
    "mo5 = haRegex2.search('Ha')\n",
    "mo6 = haRegex2.search('HaHaHaHaHaHaHaHa')\n",
    "print(mo4.group())\n",
    "print(mo5)\n",
    "print(mo6.group())"
   ]
  },
  {
   "cell_type": "markdown",
   "id": "4d9ed01e",
   "metadata": {},
   "source": [
    "### Q.12 What do you mean by the \\d, \\w, and \\s shorthand character classes signify in regular expressions?\n"
   ]
  },
  {
   "cell_type": "code",
   "execution_count": 17,
   "id": "0a00228f",
   "metadata": {},
   "outputs": [],
   "source": [
    "# \\d , \\w and \\s are special sequences in regular expresssions in python:\n",
    "# 1. \\w – Matches a word character equivalent to [a-zA-Z0-9_]\n",
    "# 2. \\d – Matches digit character equivalent to [0-9]\n",
    "# 3. \\s – Matches whitespace character (space, tab, newline, etc.)"
   ]
  },
  {
   "cell_type": "markdown",
   "id": "559db843",
   "metadata": {},
   "source": [
    "### Q.13 What do means by \\D, \\W, and \\S shorthand character classes signify in regular expressions?"
   ]
  },
  {
   "cell_type": "code",
   "execution_count": 18,
   "id": "39d4b96a",
   "metadata": {},
   "outputs": [],
   "source": [
    "# \\D , \\W and \\S are special sequences in regular expresssions in python:\n",
    "# 1. \\W – Matches any non-alphanumeric character equivalent to [^a-zA-Z0-9_]\n",
    "# 2. \\D – Matches any non-digit character, this is equivalent to the set class [^0-9]\n",
    "# 3. \\S – Matches any non-whitespace character"
   ]
  },
  {
   "cell_type": "markdown",
   "id": "6058c5f0",
   "metadata": {},
   "source": [
    "### Q.14 What is the difference between .*? and .* ?"
   ]
  },
  {
   "cell_type": "code",
   "execution_count": 19,
   "id": "ae90e5a5",
   "metadata": {},
   "outputs": [
    {
     "data": {
      "text/plain": [
       "'<To serve man> for dinner.>'"
      ]
     },
     "execution_count": 19,
     "metadata": {},
     "output_type": "execute_result"
    }
   ],
   "source": [
    "greedyRegex = re.compile(r'<.*>')\n",
    "mo = greedyRegex.search('<To serve man> for dinner.>')\n",
    "mo.group()"
   ]
  },
  {
   "cell_type": "code",
   "execution_count": 20,
   "id": "afd8e3be",
   "metadata": {},
   "outputs": [
    {
     "data": {
      "text/plain": [
       "'<To serve man>'"
      ]
     },
     "execution_count": 20,
     "metadata": {},
     "output_type": "execute_result"
    }
   ],
   "source": [
    "nongreedyRegex = re.compile(r'<.*?>')\n",
    "mo = nongreedyRegex.search('<To serve man> for dinner.>')\n",
    "mo.group()\n"
   ]
  },
  {
   "cell_type": "markdown",
   "id": "644175ea",
   "metadata": {},
   "source": [
    "### Q,15 What is the syntax for matching both numbers and lowercase letters with a character class?"
   ]
  },
  {
   "cell_type": "code",
   "execution_count": 21,
   "id": "737ef637",
   "metadata": {},
   "outputs": [
    {
     "data": {
      "text/plain": [
       "'1'"
      ]
     },
     "execution_count": 21,
     "metadata": {},
     "output_type": "execute_result"
    }
   ],
   "source": [
    "reg1 = re.compile(r'[0-9a-z]')\n",
    "reg2 = re.compile(r'[a-z0-9]')\n",
    "mo1 = reg1.search('100 times I am Reading this for 100 th time')\n",
    "mo1.group()\n"
   ]
  },
  {
   "cell_type": "code",
   "execution_count": 22,
   "id": "f41b688c",
   "metadata": {},
   "outputs": [
    {
     "data": {
      "text/plain": [
       "'t'"
      ]
     },
     "execution_count": 22,
     "metadata": {},
     "output_type": "execute_result"
    }
   ],
   "source": [
    "reg2 = re.compile(r'[a-z0-9]')\n",
    "mo1 = reg2.search('times I am Reading this for 100 th time')\n",
    "mo1.group()\n"
   ]
  },
  {
   "cell_type": "markdown",
   "id": "c4c0d1e7",
   "metadata": {},
   "source": [
    "### Q.16 What is the procedure for making a normal expression in regax case insensitive?"
   ]
  },
  {
   "cell_type": "code",
   "execution_count": 23,
   "id": "7f275be2",
   "metadata": {},
   "outputs": [
    {
     "data": {
      "text/plain": [
       "'The procedure for making a normal expression in regax case insensitive is by passing re.IGNORECASE as a\\nflag.\\nPassing re.I the argument to re.compile() can also make the matching case insensitive.\\n'"
      ]
     },
     "execution_count": 23,
     "metadata": {},
     "output_type": "execute_result"
    }
   ],
   "source": [
    "'''The procedure for making a normal expression in regax case insensitive is by passing re.IGNORECASE as a\n",
    "flag.\n",
    "Passing re.I the argument to re.compile() can also make the matching case insensitive.\n",
    "'''"
   ]
  },
  {
   "cell_type": "markdown",
   "id": "bcbbbd02",
   "metadata": {},
   "source": [
    "### Q.17 What does the . character normally match? What does it match if re.DOTALL is passed as 2nd argument in re.compile()?"
   ]
  },
  {
   "cell_type": "code",
   "execution_count": 24,
   "id": "117963be",
   "metadata": {},
   "outputs": [
    {
     "data": {
      "text/plain": [
       "'Machine'"
      ]
     },
     "execution_count": 24,
     "metadata": {},
     "output_type": "execute_result"
    }
   ],
   "source": [
    "casesen = re.compile(r'machine', re.I)\n",
    "casesen.search('Machine learning is part of data science').group()"
   ]
  },
  {
   "cell_type": "code",
   "execution_count": 25,
   "id": "0e75d3ac",
   "metadata": {},
   "outputs": [
    {
     "data": {
      "text/plain": [
       "'MACHINE'"
      ]
     },
     "execution_count": 25,
     "metadata": {},
     "output_type": "execute_result"
    }
   ],
   "source": [
    "casesen.search('MACHINE is learning.').group()\n"
   ]
  },
  {
   "cell_type": "markdown",
   "id": "7ddc9825",
   "metadata": {},
   "source": [
    "### Q.18 If numReg = re.compile(r'\\d+'), what will numRegex.sub('X', '11 drummers, 10 pipers, five rings, 4 hen') return?"
   ]
  },
  {
   "cell_type": "code",
   "execution_count": 26,
   "id": "30c2753a",
   "metadata": {},
   "outputs": [
    {
     "data": {
      "text/plain": [
       "'X drummers, X pipers, five rings, X hen'"
      ]
     },
     "execution_count": 26,
     "metadata": {},
     "output_type": "execute_result"
    }
   ],
   "source": [
    "import re\n",
    "numReg = re.compile(r'\\d+')\n",
    "numReg.sub('X', '11 drummers, 10 pipers, five rings, 4 hen')"
   ]
  },
  {
   "cell_type": "markdown",
   "id": "06a673a2",
   "metadata": {},
   "source": [
    "### Q.19 What does passing re.VERBOSE as the 2nd argument to re.compile() allow to do?\n"
   ]
  },
  {
   "cell_type": "code",
   "execution_count": 28,
   "id": "42c3d973",
   "metadata": {},
   "outputs": [],
   "source": [
    "# Without Using VERBOSE\n",
    "regex_email = re.compile(r'^([a-z0-9_\\.-]+)@([0-9a-z\\.-]+)\\.([a-z\\.]{2, 6})$', re.IGNORECASE)\n",
    "# Using VERBOSE\n",
    "regex_email = re.compile(r\"\"\"\n",
    "^([a-z0-9_\\.-]+) # local Part like username\n",
    "@ # single @ sign\n",
    "([0-9a-z\\.-]+) # Domain name like google\n",
    "\\. # single Dot .\n",
    "([a-z]{2,6})$ # Top level Domain like com/\n",
    "in/org\n",
    "\"\"\",re.VERBOSE | re.IGNORECASE)"
   ]
  },
  {
   "cell_type": "markdown",
   "id": "d7dbeb68",
   "metadata": {},
   "source": [
    "### Q.20 How would you write a regex that match a number with comma for every three\n",
    "digits? It must match the given following:\n",
    "\n",
    "'42'\n",
    "\n",
    "'1,234'\n",
    "\n",
    "'6,368,745'\n",
    "\n",
    "but not the following:\n",
    "\n",
    "'12,34,567' (which has only two digits between the commas)\n",
    "\n",
    "'1234' (which lacks commas)\n",
    "\n"
   ]
  },
  {
   "cell_type": "code",
   "execution_count": 30,
   "id": "3262b047",
   "metadata": {},
   "outputs": [
    {
     "name": "stdout",
     "output_type": "stream",
     "text": [
      "Output: 42 -> <re.Match object; span=(0, 2), match='42'>\n",
      "Output: 1,234 -> <re.Match object; span=(0, 5), match='1,234'>\n",
      "Output: 6,368,745 -> <re.Match object; span=(0, 9), match='6,368,745'>\n",
      "Output: 12,34,567 -> None\n",
      "Output: 1234 -> None\n"
     ]
    }
   ],
   "source": [
    "import re\n",
    "pattern = r'^\\d{1,3}(,\\d{3})*$'\n",
    "pagex = re.compile(pattern)\n",
    "for ele in ['42','1,234', '6,368,745','12,34,567','1234']:\n",
    "    print('Output:',ele, '->', pagex.search(ele))"
   ]
  },
  {
   "cell_type": "markdown",
   "id": "516ae761",
   "metadata": {},
   "source": [
    "### Q.21 How would you write a regex that matches the full name of someone whose\n",
    "\n",
    "last name is Watanabe? You can assume that the first name that comes before it will always be one word that begins with a capital letter. The regex must match the following:\n",
    "\n",
    "'Haruto Watanabe'\n",
    "\n",
    "'Alice Watanabe'\n",
    "\n",
    "'RoboCop Watanabe'\n",
    "\n",
    "but not the following:\n",
    "\n",
    "'haruto Watanabe' (where the first name is not capitalized)\n",
    "\n",
    "'Mr. Watanabe' (where the preceding word has a nonletter character)\n",
    "\n",
    "'Watanabe' (which has no first name)\n",
    "\n",
    "'Haruto watanabe' (where Watanabe is not capitalized)\n"
   ]
  },
  {
   "cell_type": "code",
   "execution_count": 33,
   "id": "7a372c4a",
   "metadata": {},
   "outputs": [
    {
     "name": "stdout",
     "output_type": "stream",
     "text": [
      "Output:  Haruto Watanabe -> <re.Match object; span=(0, 15), match='Haruto Watanabe'>\n",
      "Output:  Alice Watanabe -> <re.Match object; span=(0, 14), match='Alice Watanabe'>\n",
      "Output:  RoboCop Watanabe -> <re.Match object; span=(4, 16), match='Cop Watanabe'>\n",
      "Output:  haruto Watanabe -> None\n",
      "Output:  Mr.Watanabe -> None\n",
      "Output:  Watanabe -> None\n",
      "Output:  Haruto watanabe -> None\n"
     ]
    }
   ],
   "source": [
    "import re\n",
    "pattern = r'[A-Z]{1}[a-z]*\\sWatanabe'\n",
    "namex = re.compile(pattern)\n",
    "for name in ['Haruto Watanabe','Alice Watanabe','RoboCop Watanabe','haruto Watanabe','Mr.Watanabe','Watanabe','Haruto watanabe']:\n",
    "    print('Output: ',name,'->',namex.search(name))"
   ]
  },
  {
   "cell_type": "markdown",
   "id": "fa47ba6d",
   "metadata": {},
   "source": [
    "### Q.22 How would you write a regex that matches a sentence where the first word is either Alice, Bob, or Carol; the second word is either eats, pets, or throws; the third word is apples, cats, or baseballs; and the sentence ends with a period? This regex should be case\u0002insensitive. It must match the following:\n",
    "\n",
    "'Alice eats apples.'\n",
    "\n",
    "'Bob pets cats.'\n",
    "\n",
    "'Carol throws baseballs.'\n",
    "\n",
    "'Alice throws Apples.'\n",
    "\n",
    "'BOB EATS CATS.'\n",
    "\n",
    "but not the following:\n",
    "\n",
    "'RoboCop eats apples.'\n",
    "\n",
    "'ALICE THROWS FOOTBALLS.'\n",
    "\n",
    "'Carol eats 7 cats.'\n"
   ]
  },
  {
   "cell_type": "code",
   "execution_count": 34,
   "id": "a70561a7",
   "metadata": {},
   "outputs": [
    {
     "name": "stdout",
     "output_type": "stream",
     "text": [
      "Output:  Alice eats apples. -> <re.Match object; span=(0, 18), match='Alice eats apples.'>\n",
      "Output:  Bob pets cats. -> <re.Match object; span=(0, 14), match='Bob pets cats.'>\n",
      "Output:  Carol throws baseballs. -> <re.Match object; span=(0, 23), match='Carol throws baseballs.'>\n",
      "Output:  Alice throws Apples. -> <re.Match object; span=(0, 20), match='Alice throws Apples.'>\n",
      "Output:  BOB EATS CATS. -> <re.Match object; span=(0, 14), match='BOB EATS CATS.'>\n",
      "Output:  RoboCop eats apples. -> None\n",
      "Output:  ALICE THROWS FOOTBALLS. -> None\n",
      "Output:  Carol eats 7 cats. -> None\n"
     ]
    }
   ],
   "source": [
    "import re\n",
    "pattern = r'(Alice|Bob|Carol)\\s(eats|pets|throws)\\s(apples|cats|baseballs)\\.'\n",
    "casex = re.compile(pattern,re.IGNORECASE)\n",
    "for ele in ['Alice eats apples.','Bob pets cats.','Carol throws baseballs.','Alice throws Apples.','BOB EATS CATS.','RoboCop eats apples.'\n",
    ",'ALICE THROWS FOOTBALLS.','Carol eats 7 cats.']:\n",
    "    print('Output: ',ele,'->',casex.search(ele))"
   ]
  },
  {
   "cell_type": "code",
   "execution_count": null,
   "id": "2c4956a6",
   "metadata": {},
   "outputs": [],
   "source": []
  }
 ],
 "metadata": {
  "kernelspec": {
   "display_name": "Python 3 (ipykernel)",
   "language": "python",
   "name": "python3"
  },
  "language_info": {
   "codemirror_mode": {
    "name": "ipython",
    "version": 3
   },
   "file_extension": ".py",
   "mimetype": "text/x-python",
   "name": "python",
   "nbconvert_exporter": "python",
   "pygments_lexer": "ipython3",
   "version": "3.9.12"
  }
 },
 "nbformat": 4,
 "nbformat_minor": 5
}
