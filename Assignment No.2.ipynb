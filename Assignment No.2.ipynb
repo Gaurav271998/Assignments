{
 "cells": [
  {
   "cell_type": "markdown",
   "id": "ce440d7f",
   "metadata": {},
   "source": [
    "1.What are the two values of the Boolean data type? How do you write them?\n",
    "\n",
    "2. What are the three different types of Boolean operators?\n",
    "\n",
    "3. Make a list of each Boolean operator's truth tables (i.e. every possible combination of Boolean values for the operator and what it evaluate ).\n",
    "\n",
    "4. What are the values of the following expressions?\n",
    "(5 > 4) and (3 == 5)\n",
    "not (5 > 4)\n",
    "(5 > 4) or (3 == 5)\n",
    "not ((5 > 4) or (3 == 5))\n",
    "(True and True) and (True == False)\n",
    "(not False) or (not True)\n",
    "\n",
    "5. What are the six comparison operators?\n",
    "\n",
    "6. How do you tell the difference between the equal to and assignment operators?Describe a condition and when you would use one.\n",
    "\n",
    "7. Identify the three blocks in this code:\n",
    "spam = 0\n",
    "if spam == 10:\n",
    "print('eggs')\n",
    "if spam > 5:\n",
    "print('bacon')\n",
    "else:\n",
    "print('ham')\n",
    "print('spam')\n",
    "print('spam')\n",
    "\n",
    "8. Write code that prints Hello if 1 is stored in spam, prints Howdy if 2 is stored in spam, and prints Greetings! if anything else is stored in spam.\n",
    "\n",
    "9.If your programme is stuck in an endless loop, what keys you’ll press?\n",
    "\n",
    "10. How can you tell the difference between break and continue?\n",
    "\n",
    "11. In a for loop, what is the difference between range(10), range(0, 10), and range(0, 10, 1)?\n",
    "\n",
    "12. Write a short program that prints the numbers 1 to 10 using a for loop. Then write an equivalent program that prints the numbers 1 to 10 using a while loop.\n",
    "\n",
    "13. If you had a function named bacon() inside a module named spam, how would you call it after importing spam?"
   ]
  },
  {
   "cell_type": "markdown",
   "id": "19a2f5ad",
   "metadata": {},
   "source": [
    "### 1.What are the two values of the Boolean data type? How do you write them?"
   ]
  },
  {
   "cell_type": "code",
   "execution_count": null,
   "id": "4992069e",
   "metadata": {},
   "outputs": [],
   "source": [
    " 0 and 1 are the two values of boolean data type.\n",
    "    we can write it as a 'True(for 1)' and 'False(for 0)'."
   ]
  },
  {
   "cell_type": "markdown",
   "id": "1b7b9da1",
   "metadata": {},
   "source": [
    "### 2.What are the three different types of Boolean operators?"
   ]
  },
  {
   "cell_type": "code",
   "execution_count": null,
   "id": "ab49c944",
   "metadata": {},
   "outputs": [],
   "source": [
    "1. AND\n",
    "2. OR\n",
    "3. NOT"
   ]
  },
  {
   "cell_type": "markdown",
   "id": "28be4d3a",
   "metadata": {},
   "source": [
    "### 3. Make a list of each Boolean operator's truth tables (i.e. every possible combination of Boolean values for the operator and what it evaluate ).\n"
   ]
  },
  {
   "cell_type": "code",
   "execution_count": null,
   "id": "7a26789a",
   "metadata": {},
   "outputs": [],
   "source": [
    "#AND\n",
    "A      B      A and B\n",
    "1      1      True\n",
    "1      0      False\n",
    "0      1      False\n",
    "0      0      False"
   ]
  },
  {
   "cell_type": "code",
   "execution_count": null,
   "id": "362f0633",
   "metadata": {},
   "outputs": [],
   "source": [
    "#OR\n",
    "A      B      A or B\n",
    "1      1      True\n",
    "1      0      True\n",
    "0      1      True\n",
    "0      0      False"
   ]
  },
  {
   "cell_type": "code",
   "execution_count": null,
   "id": "b00c869d",
   "metadata": {},
   "outputs": [],
   "source": [
    "#NOT\n",
    "A      not A      \n",
    "1         0  \n",
    "0         1"
   ]
  },
  {
   "cell_type": "markdown",
   "id": "88f82ce3",
   "metadata": {},
   "source": [
    "### 4. What are the values of the following expressions?\n",
    "(5 > 4) and (3 == 5)\n",
    "\n",
    "not (5 > 4)\n",
    "\n",
    "(5 > 4) or (3 == 5)\n",
    "\n",
    "not ((5 > 4) or (3 == 5))\n",
    "\n",
    "(True and True) and (True == False)\n",
    "\n",
    "(not False) or (not True)"
   ]
  },
  {
   "cell_type": "code",
   "execution_count": 1,
   "id": "6b602e36",
   "metadata": {},
   "outputs": [
    {
     "data": {
      "text/plain": [
       "False"
      ]
     },
     "execution_count": 1,
     "metadata": {},
     "output_type": "execute_result"
    }
   ],
   "source": [
    "(5>4) and (3==5)"
   ]
  },
  {
   "cell_type": "code",
   "execution_count": 2,
   "id": "53a19075",
   "metadata": {},
   "outputs": [
    {
     "data": {
      "text/plain": [
       "False"
      ]
     },
     "execution_count": 2,
     "metadata": {},
     "output_type": "execute_result"
    }
   ],
   "source": [
    "not(5>4)"
   ]
  },
  {
   "cell_type": "code",
   "execution_count": 3,
   "id": "7ea5fd04",
   "metadata": {},
   "outputs": [
    {
     "data": {
      "text/plain": [
       "True"
      ]
     },
     "execution_count": 3,
     "metadata": {},
     "output_type": "execute_result"
    }
   ],
   "source": [
    "(5>4) or (3==5)"
   ]
  },
  {
   "cell_type": "code",
   "execution_count": 4,
   "id": "674dadde",
   "metadata": {},
   "outputs": [
    {
     "data": {
      "text/plain": [
       "False"
      ]
     },
     "execution_count": 4,
     "metadata": {},
     "output_type": "execute_result"
    }
   ],
   "source": [
    "not((5>4) or (3==5))"
   ]
  },
  {
   "cell_type": "code",
   "execution_count": 5,
   "id": "5e22875d",
   "metadata": {},
   "outputs": [
    {
     "data": {
      "text/plain": [
       "False"
      ]
     },
     "execution_count": 5,
     "metadata": {},
     "output_type": "execute_result"
    }
   ],
   "source": [
    "(True and True) and (True==False)"
   ]
  },
  {
   "cell_type": "code",
   "execution_count": 6,
   "id": "66df9746",
   "metadata": {},
   "outputs": [
    {
     "data": {
      "text/plain": [
       "True"
      ]
     },
     "execution_count": 6,
     "metadata": {},
     "output_type": "execute_result"
    }
   ],
   "source": [
    "(not False) or (not True)"
   ]
  },
  {
   "cell_type": "markdown",
   "id": "1fe11215",
   "metadata": {},
   "source": [
    "### 5. What are the six comparison operators?"
   ]
  },
  {
   "cell_type": "code",
   "execution_count": null,
   "id": "cb774f8f",
   "metadata": {},
   "outputs": [],
   "source": [
    "==, <=,>=, <, >, !="
   ]
  },
  {
   "cell_type": "markdown",
   "id": "d6826638",
   "metadata": {},
   "source": [
    "### 6. How do you tell the difference between the equal to and assignment operators?Describe a condition and when you would use one."
   ]
  },
  {
   "cell_type": "code",
   "execution_count": null,
   "id": "0710c8b0",
   "metadata": {},
   "outputs": [],
   "source": [
    "a = 5 # This is the Assignment operator\n",
    "5==5 # This is equal to operator"
   ]
  },
  {
   "cell_type": "markdown",
   "id": "dc3e77da",
   "metadata": {},
   "source": [
    "### 7. Identify the three blocks in this code:\n",
    "spam = 0\n",
    "\n",
    "if spam == 10:\n",
    "\n",
    "print('eggs')\n",
    "\n",
    "if spam > 5:\n",
    "\n",
    "print('bacon')\n",
    "\n",
    "else:\n",
    "\n",
    "print('ham')\n",
    "\n",
    "print('spam')\n",
    "\n",
    "print('spam')"
   ]
  },
  {
   "cell_type": "code",
   "execution_count": 11,
   "id": "193b8c46",
   "metadata": {
    "collapsed": true
   },
   "outputs": [
    {
     "name": "stdout",
     "output_type": "stream",
     "text": [
      "ham\n",
      "spam\n",
      "spam\n"
     ]
    }
   ],
   "source": [
    "spam =0\n",
    "if spam == 10: #First block\n",
    "    print('eggs')\n",
    "if spam > 5:#second block\n",
    "    print('bacon')\n",
    "else:  #Third block\n",
    "    print('ham')\n",
    "print('spam')\n",
    "print('spam')"
   ]
  },
  {
   "cell_type": "markdown",
   "id": "1109fd8e",
   "metadata": {},
   "source": [
    "### 8. Write code that prints Hello if 1 is stored in spam, prints Howdy if 2 is stored in spam, and prints Greetings! if anything else is stored in spam."
   ]
  },
  {
   "cell_type": "code",
   "execution_count": 52,
   "id": "cc3a7d96",
   "metadata": {},
   "outputs": [
    {
     "name": "stdout",
     "output_type": "stream",
     "text": [
      "Enter your number1\n",
      "hello\n"
     ]
    }
   ],
   "source": [
    "spam = int(input(\"Enter your number\"))\n",
    "if spam==1:\n",
    "    print(\"hello\")\n",
    "elif spam == 2:\n",
    "    print(\"Howdy\")\n",
    "else:\n",
    "    print(\"Greetings!\")"
   ]
  },
  {
   "cell_type": "markdown",
   "id": "fb06b13a",
   "metadata": {},
   "source": [
    "### 9.If your programme is stuck in an endless loop, what keys you’ll press?"
   ]
  },
  {
   "cell_type": "code",
   "execution_count": null,
   "id": "80632070",
   "metadata": {},
   "outputs": [],
   "source": [
    "we can restart the kernel if we stuck in endless loop OR we can use \"CTRL + C\""
   ]
  },
  {
   "cell_type": "markdown",
   "id": "1e39704a",
   "metadata": {},
   "source": [
    "### 10. How can you tell the difference between break and continue?"
   ]
  },
  {
   "cell_type": "code",
   "execution_count": null,
   "id": "0d041ea3",
   "metadata": {},
   "outputs": [],
   "source": [
    "Break - when we want a immediate exit from any loop then we use break\n",
    "continue - when we want continue or loop until whole loop is complete. "
   ]
  },
  {
   "cell_type": "markdown",
   "id": "b75d18d5",
   "metadata": {},
   "source": [
    "### 11. In a for loop, what is the difference between range(10), range(0, 10), and range(0, 10, 1)?"
   ]
  },
  {
   "cell_type": "code",
   "execution_count": 2,
   "id": "d9da80ad",
   "metadata": {},
   "outputs": [
    {
     "name": "stdout",
     "output_type": "stream",
     "text": [
      "0,1,2,3,4,5,6,7,8,9,"
     ]
    }
   ],
   "source": [
    "for i in range(10):\n",
    "    print(i, end=\",\")"
   ]
  },
  {
   "cell_type": "code",
   "execution_count": 4,
   "id": "d2b74f95",
   "metadata": {},
   "outputs": [
    {
     "name": "stdout",
     "output_type": "stream",
     "text": [
      "0,1,2,3,4,5,6,7,8,9,"
     ]
    }
   ],
   "source": [
    "for i in range(0,10):\n",
    "    print(i, end=\",\")"
   ]
  },
  {
   "cell_type": "code",
   "execution_count": 10,
   "id": "20758c4a",
   "metadata": {},
   "outputs": [
    {
     "name": "stdout",
     "output_type": "stream",
     "text": [
      "0,1,2,3,4,5,6,7,8,9,"
     ]
    }
   ],
   "source": [
    "for i in range(0,10,1):\n",
    "    print(i, end=\",\")"
   ]
  },
  {
   "cell_type": "code",
   "execution_count": null,
   "id": "b2b10e47",
   "metadata": {},
   "outputs": [],
   "source": [
    "Above three are same because in range function there are thre arguments\n",
    "range(start, end, step)\n",
    "Above three example are giving the same output"
   ]
  },
  {
   "cell_type": "markdown",
   "id": "ee938a24",
   "metadata": {},
   "source": [
    "### 12. Write a short program that prints the numbers 1 to 10 using a for loop. Then write an equivalent program that prints the numbers 1 to 10 using a while loop."
   ]
  },
  {
   "cell_type": "code",
   "execution_count": 2,
   "id": "ea6647fb",
   "metadata": {},
   "outputs": [
    {
     "name": "stdout",
     "output_type": "stream",
     "text": [
      "1 2 3 4 5 6 7 8 9 10 "
     ]
    }
   ],
   "source": [
    "for i in range(1,11):\n",
    "    print(i,end=\" \")"
   ]
  },
  {
   "cell_type": "code",
   "execution_count": 3,
   "id": "481a44a0",
   "metadata": {},
   "outputs": [
    {
     "name": "stdout",
     "output_type": "stream",
     "text": [
      "1 2 3 4 5 6 7 8 9 10 "
     ]
    }
   ],
   "source": [
    "i = 1\n",
    "while i<=10:\n",
    "    print(i, end = \" \")\n",
    "    i+=1"
   ]
  },
  {
   "cell_type": "markdown",
   "id": "5ee0c6b8",
   "metadata": {},
   "source": [
    "### 13. If you had a function named bacon() inside a module named spam, how would you call it after importing spam?"
   ]
  },
  {
   "cell_type": "code",
   "execution_count": 6,
   "id": "634dcbbc",
   "metadata": {},
   "outputs": [],
   "source": [
    "def bacon():\n",
    "    print(\"spam\")"
   ]
  },
  {
   "cell_type": "code",
   "execution_count": 10,
   "id": "1a318ab4",
   "metadata": {},
   "outputs": [
    {
     "name": "stdout",
     "output_type": "stream",
     "text": [
      "spam\n"
     ]
    }
   ],
   "source": [
    "bacon()"
   ]
  },
  {
   "cell_type": "code",
   "execution_count": null,
   "id": "8597c297",
   "metadata": {},
   "outputs": [],
   "source": []
  }
 ],
 "metadata": {
  "kernelspec": {
   "display_name": "Python 3 (ipykernel)",
   "language": "python",
   "name": "python3"
  },
  "language_info": {
   "codemirror_mode": {
    "name": "ipython",
    "version": 3
   },
   "file_extension": ".py",
   "mimetype": "text/x-python",
   "name": "python",
   "nbconvert_exporter": "python",
   "pygments_lexer": "ipython3",
   "version": "3.9.12"
  }
 },
 "nbformat": 4,
 "nbformat_minor": 5
}
