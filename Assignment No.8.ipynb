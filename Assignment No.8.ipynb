{
 "cells": [
  {
   "cell_type": "markdown",
   "id": "6fdcb387",
   "metadata": {},
   "source": [
    "#### Question 1. Is the Python Standard Library included with PyInputPlus?\n"
   ]
  },
  {
   "cell_type": "code",
   "execution_count": 1,
   "id": "616a23da",
   "metadata": {},
   "outputs": [
    {
     "data": {
      "text/plain": [
       "'No, PyInputPlus is not a part of Python Standard Library. It needs to be installed explicitly using the\\ncommand !pip install PyInputPlus\\n'"
      ]
     },
     "execution_count": 1,
     "metadata": {},
     "output_type": "execute_result"
    }
   ],
   "source": [
    "'''No, PyInputPlus is not a part of Python Standard Library. It needs to be installed explicitly using the\n",
    "command !pip install PyInputPlus\n",
    "'''"
   ]
  },
  {
   "cell_type": "markdown",
   "id": "771ce29b",
   "metadata": {},
   "source": [
    "#### Question 2. Why is PyInputPlus commonly imported with import pyinputplus as pyip?\n"
   ]
  },
  {
   "cell_type": "code",
   "execution_count": 2,
   "id": "93823ff7",
   "metadata": {},
   "outputs": [
    {
     "data": {
      "text/plain": [
       "'pyip is an alias of PyInputPlus.\\nThe as pyip code in the import statement saves us from typing yInputPlus each time we want to call a\\nPyInputPlus function. Instead we can use the shorter pyip name.'"
      ]
     },
     "execution_count": 2,
     "metadata": {},
     "output_type": "execute_result"
    }
   ],
   "source": [
    "'''pyip is an alias of PyInputPlus.\n",
    "The as pyip code in the import statement saves us from typing yInputPlus each time we want to call a\n",
    "PyInputPlus function. Instead we can use the shorter pyip name.'''"
   ]
  },
  {
   "cell_type": "markdown",
   "id": "89acf300",
   "metadata": {},
   "source": [
    "#### Question 3. How do you distinguish between inputInt() and inputFloat()?\n"
   ]
  },
  {
   "cell_type": "code",
   "execution_count": 3,
   "id": "a443a216",
   "metadata": {},
   "outputs": [
    {
     "data": {
      "text/plain": [
       "'inputInt() : Accepts an integer value, and returns int value inputFloat() : Accepts integer/floating point\\nvalue and returns float value\\nBoth takes additional parameters ‘ min ’, ‘ max ’, ‘ greaterThan ’ and ‘ lessThan ’ for bounds'"
      ]
     },
     "execution_count": 3,
     "metadata": {},
     "output_type": "execute_result"
    }
   ],
   "source": [
    "'''inputInt() : Accepts an integer value, and returns int value inputFloat() : Accepts integer/floating point\n",
    "value and returns float value\n",
    "Both takes additional parameters ‘ min ’, ‘ max ’, ‘ greaterThan ’ and ‘ lessThan ’ for bounds'''"
   ]
  },
  {
   "cell_type": "code",
   "execution_count": 7,
   "id": "0dafc8c6",
   "metadata": {},
   "outputs": [
    {
     "name": "stdout",
     "output_type": "stream",
     "text": [
      "Collecting pyinputplus\n",
      "  Downloading PyInputPlus-0.2.12.tar.gz (20 kB)\n",
      "  Installing build dependencies: started\n",
      "  Installing build dependencies: finished with status 'done'\n",
      "  Getting requirements to build wheel: started\n",
      "  Getting requirements to build wheel: finished with status 'done'\n",
      "    Preparing wheel metadata: started\n",
      "    Preparing wheel metadata: finished with status 'done'\n",
      "Collecting pysimplevalidate>=0.2.7\n",
      "  Downloading PySimpleValidate-0.2.12.tar.gz (22 kB)\n",
      "  Installing build dependencies: started\n",
      "  Installing build dependencies: finished with status 'done'\n",
      "  Getting requirements to build wheel: started\n",
      "  Getting requirements to build wheel: finished with status 'done'\n",
      "    Preparing wheel metadata: started\n",
      "    Preparing wheel metadata: finished with status 'done'\n",
      "Collecting stdiomask>=0.0.3\n",
      "  Downloading stdiomask-0.0.6.tar.gz (3.6 kB)\n",
      "  Installing build dependencies: started\n",
      "  Installing build dependencies: finished with status 'done'\n",
      "  Getting requirements to build wheel: started\n",
      "  Getting requirements to build wheel: finished with status 'done'\n",
      "    Preparing wheel metadata: started\n",
      "    Preparing wheel metadata: finished with status 'done'\n",
      "Building wheels for collected packages: pyinputplus, pysimplevalidate, stdiomask\n",
      "  Building wheel for pyinputplus (PEP 517): started\n",
      "  Building wheel for pyinputplus (PEP 517): finished with status 'done'\n",
      "  Created wheel for pyinputplus: filename=PyInputPlus-0.2.12-py3-none-any.whl size=11297 sha256=a5546118b3a3d3b17e0d281b5b011cac1c0c365e46b9f315d5cb0e38671c8928\n",
      "  Stored in directory: c:\\users\\gaurav patil\\appdata\\local\\pip\\cache\\wheels\\b4\\6e\\2f\\8a852732646cabec36c3fe8fc060ec5bea1c1be711432c47f7\n",
      "  Building wheel for pysimplevalidate (PEP 517): started\n",
      "  Building wheel for pysimplevalidate (PEP 517): finished with status 'done'\n",
      "  Created wheel for pysimplevalidate: filename=PySimpleValidate-0.2.12-py3-none-any.whl size=16175 sha256=2f8e28dcba49348a08835324cb2c19a6dc62161f3a3fb261655338c2adddde16\n",
      "  Stored in directory: c:\\users\\gaurav patil\\appdata\\local\\pip\\cache\\wheels\\b1\\44\\4a\\043a4f4c4512c7cdfb0c2b8408b18b0de5fd45cac57f5dfa02\n",
      "  Building wheel for stdiomask (PEP 517): started\n",
      "  Building wheel for stdiomask (PEP 517): finished with status 'done'\n",
      "  Created wheel for stdiomask: filename=stdiomask-0.0.6-py3-none-any.whl size=3306 sha256=f07c9895b027af4770bef440950a594d578e478e25c14a16f28731e2c27aac5f\n",
      "  Stored in directory: c:\\users\\gaurav patil\\appdata\\local\\pip\\cache\\wheels\\1d\\aa\\47\\f41f117d22c5de82e95d9342f44da578c80610739a2d5ebec4\n",
      "Successfully built pyinputplus pysimplevalidate stdiomask\n",
      "Installing collected packages: stdiomask, pysimplevalidate, pyinputplus\n",
      "Successfully installed pyinputplus-0.2.12 pysimplevalidate-0.2.12 stdiomask-0.0.6\n",
      "2\n"
     ]
    },
    {
     "data": {
      "text/plain": [
       "2"
      ]
     },
     "execution_count": 7,
     "metadata": {},
     "output_type": "execute_result"
    }
   ],
   "source": [
    "!pip install pyinputplus\n",
    "import pyinputplus as pyip\n",
    "pyip.inputInt()"
   ]
  },
  {
   "cell_type": "code",
   "execution_count": 8,
   "id": "f61a0015",
   "metadata": {},
   "outputs": [
    {
     "name": "stdout",
     "output_type": "stream",
     "text": [
      "2\n"
     ]
    },
    {
     "data": {
      "text/plain": [
       "2.0"
      ]
     },
     "execution_count": 8,
     "metadata": {},
     "output_type": "execute_result"
    }
   ],
   "source": [
    "pyip.inputFloat()"
   ]
  },
  {
   "cell_type": "markdown",
   "id": "d2c2095b",
   "metadata": {},
   "source": [
    "#### Question 4. Using PyInputPlus, how do you ensure that the user enters a whole number between 0 and 99?"
   ]
  },
  {
   "cell_type": "code",
   "execution_count": 9,
   "id": "e234b0e4",
   "metadata": {},
   "outputs": [
    {
     "name": "stdout",
     "output_type": "stream",
     "text": [
      "Enter a number: 200\n",
      "Number must be at maximum 99.\n",
      "Enter a number: 123\n",
      "Number must be at maximum 99.\n",
      "Enter a number: 23\n",
      "23\n"
     ]
    }
   ],
   "source": [
    "import pyinputplus as pyip\n",
    "wholenumber = pyip.inputInt(prompt='Enter a number: ', min=0, max=99)\n",
    "print(wholenumber)"
   ]
  },
  {
   "cell_type": "markdown",
   "id": "0bc660dd",
   "metadata": {},
   "source": [
    "#### Question 5. What is transferred to the keyword arguments allowRegexes and blockRegexes?"
   ]
  },
  {
   "cell_type": "code",
   "execution_count": 11,
   "id": "60edfc4e",
   "metadata": {},
   "outputs": [
    {
     "name": "stdout",
     "output_type": "stream",
     "text": [
      "V\n"
     ]
    }
   ],
   "source": [
    "response = pyip.inputNum(allowRegexes=[r'(I|V|X|L|C|D|M)+', r'zero'])"
   ]
  },
  {
   "cell_type": "code",
   "execution_count": 12,
   "id": "e6c3c87b",
   "metadata": {},
   "outputs": [
    {
     "name": "stdout",
     "output_type": "stream",
     "text": [
      "3456\n",
      "This response is invalid.\n",
      "23\n"
     ]
    }
   ],
   "source": [
    "response = pyip.inputNum(blockRegexes=[r'[02468]$'])# It blocks the even numbers\n"
   ]
  },
  {
   "cell_type": "markdown",
   "id": "0a058414",
   "metadata": {},
   "source": [
    "#### Question 6. If a blank input is entered three times, what does inputStr(limit=3) do?\n"
   ]
  },
  {
   "cell_type": "code",
   "execution_count": 13,
   "id": "4b3c45d8",
   "metadata": {},
   "outputs": [
    {
     "data": {
      "text/plain": [
       "'The statement inputStr(limit=3) will throw two exceptions ValidationException and\\nRetryLimitException . The first exception is thrown because blank values are not allowed by inputStr()\\nfunction by default. If we want to consider blank values as valid input, we must set blank=True . The second\\nexception is thrown because we are provided only 3 chances to provide valid input.'"
      ]
     },
     "execution_count": 13,
     "metadata": {},
     "output_type": "execute_result"
    }
   ],
   "source": [
    "'''The statement inputStr(limit=3) will throw two exceptions ValidationException and\n",
    "RetryLimitException . The first exception is thrown because blank values are not allowed by inputStr()\n",
    "function by default. If we want to consider blank values as valid input, we must set blank=True . The second\n",
    "exception is thrown because we are provided only 3 chances to provide valid input.'''"
   ]
  },
  {
   "cell_type": "markdown",
   "id": "978297ac",
   "metadata": {},
   "source": [
    "#### Question 7. If blank input is entered three times, what does inputStr(limit=3, default='hello') do?"
   ]
  },
  {
   "cell_type": "code",
   "execution_count": 14,
   "id": "9a537cba",
   "metadata": {},
   "outputs": [
    {
     "name": "stdout",
     "output_type": "stream",
     "text": [
      "\n",
      "Blank values are not allowed.\n",
      "\n",
      "Blank values are not allowed.\n",
      "\n",
      "Blank values are not allowed.\n"
     ]
    },
    {
     "data": {
      "text/plain": [
       "'hello'"
      ]
     },
     "execution_count": 14,
     "metadata": {},
     "output_type": "execute_result"
    }
   ],
   "source": [
    "response = pyip.inputStr(limit=3,default='hello')\n",
    "response"
   ]
  },
  {
   "cell_type": "code",
   "execution_count": null,
   "id": "609c3aac",
   "metadata": {},
   "outputs": [],
   "source": []
  }
 ],
 "metadata": {
  "kernelspec": {
   "display_name": "Python 3 (ipykernel)",
   "language": "python",
   "name": "python3"
  },
  "language_info": {
   "codemirror_mode": {
    "name": "ipython",
    "version": 3
   },
   "file_extension": ".py",
   "mimetype": "text/x-python",
   "name": "python",
   "nbconvert_exporter": "python",
   "pygments_lexer": "ipython3",
   "version": "3.9.12"
  }
 },
 "nbformat": 4,
 "nbformat_minor": 5
}
