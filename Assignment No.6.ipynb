{
 "cells": [
  {
   "cell_type": "markdown",
   "id": "b11dccd6",
   "metadata": {},
   "source": [
    "### Q.1 What are escape characters, and how do you use them?\n"
   ]
  },
  {
   "cell_type": "code",
   "execution_count": 1,
   "id": "7edc0536",
   "metadata": {},
   "outputs": [
    {
     "data": {
      "text/plain": [
       "'Escape characters represent characters in string values that would otherwise be difficult or impossible to type\\ninto code. In Python strings, the backslash “\\\\” is a special character, also called the “escape” character can be\\nused as a prefix just before the character we want to escape.'"
      ]
     },
     "execution_count": 1,
     "metadata": {},
     "output_type": "execute_result"
    }
   ],
   "source": [
    "'''Escape characters represent characters in string values that would otherwise be difficult or impossible to type\n",
    "into code. In Python strings, the backslash “\\” is a special character, also called the “escape” character can be\n",
    "used as a prefix just before the character we want to escape.'''"
   ]
  },
  {
   "cell_type": "markdown",
   "id": "62a5efe9",
   "metadata": {},
   "source": [
    "### Q.2 What do the escape characters n and t stand for?\n"
   ]
  },
  {
   "cell_type": "code",
   "execution_count": 2,
   "id": "cb2a4810",
   "metadata": {},
   "outputs": [
    {
     "data": {
      "text/plain": [
       "'\\n is a newline and \\t is a tab.\\n'"
      ]
     },
     "execution_count": 2,
     "metadata": {},
     "output_type": "execute_result"
    }
   ],
   "source": [
    "'''\\n is a newline and \\t is a tab.\n",
    "'''"
   ]
  },
  {
   "cell_type": "markdown",
   "id": "3bd3a210",
   "metadata": {},
   "source": [
    "### Q.3 What is the way to include backslash characters in a string?\n"
   ]
  },
  {
   "cell_type": "code",
   "execution_count": 3,
   "id": "2edf9001",
   "metadata": {},
   "outputs": [
    {
     "data": {
      "text/plain": [
       "'We need to include backslash characters in a string by using the \\\\ escape character.\\n'"
      ]
     },
     "execution_count": 3,
     "metadata": {},
     "output_type": "execute_result"
    }
   ],
   "source": [
    "'''We need to include backslash characters in a string by using the \\ escape character.\n",
    "'''"
   ]
  },
  {
   "cell_type": "markdown",
   "id": "5a9c3193",
   "metadata": {},
   "source": [
    "### Q.4 The string \"Howl's Moving Castle\" is a correct value. Why isn't the single quote character in the word Howl's not escaped a problem?"
   ]
  },
  {
   "cell_type": "code",
   "execution_count": 4,
   "id": "8e0508cd",
   "metadata": {},
   "outputs": [
    {
     "data": {
      "text/plain": [
       "'The string \"Howl\\'s Moving Castle\" is a correct value. The single quote character in the word Howl\\'s not escaped\\nis not a problem because double quotes have been used to mark the beginning and end of the given string.\\n'"
      ]
     },
     "execution_count": 4,
     "metadata": {},
     "output_type": "execute_result"
    }
   ],
   "source": [
    "'''The string \"Howl's Moving Castle\" is a correct value. The single quote character in the word Howl's not escaped\n",
    "is not a problem because double quotes have been used to mark the beginning and end of the given string.\n",
    "'''"
   ]
  },
  {
   "cell_type": "markdown",
   "id": "f98f3e06",
   "metadata": {},
   "source": [
    "### Q.5 How do you write a string of newlines if you don't want to use the n character?\n"
   ]
  },
  {
   "cell_type": "code",
   "execution_count": 5,
   "id": "81bbd9c5",
   "metadata": {},
   "outputs": [
    {
     "data": {
      "text/plain": [
       "\"Multiline strings allow us to write a string of newlines if we don't want to use the \\n escape character.\\n\""
      ]
     },
     "execution_count": 5,
     "metadata": {},
     "output_type": "execute_result"
    }
   ],
   "source": [
    "'''Multiline strings allow us to write a string of newlines if we don't want to use the \\n escape character.\n",
    "'''"
   ]
  },
  {
   "cell_type": "markdown",
   "id": "02e94692",
   "metadata": {},
   "source": [
    "### Q.6 What are the values of the given expressions?\n",
    "a.) 'Hello, world!'[1]\n",
    "b.) 'Hello, world!'[0:5]\n",
    "c.) 'Hello, world!'[:5]\n",
    "d.) 'Hello, world!'[3:]"
   ]
  },
  {
   "cell_type": "code",
   "execution_count": 6,
   "id": "adcfd5d9",
   "metadata": {},
   "outputs": [
    {
     "data": {
      "text/plain": [
       "\"The values of the given expressions are as follows:\\na.) 'e'\\nb.) 'Hello'\\nc.) 'Hello'\\nd.) 'lo, world!'\\n\""
      ]
     },
     "execution_count": 6,
     "metadata": {},
     "output_type": "execute_result"
    }
   ],
   "source": [
    "'''The values of the given expressions are as follows:\n",
    "a.) 'e'\n",
    "b.) 'Hello'\n",
    "c.) 'Hello'\n",
    "d.) 'lo, world!'\n",
    "'''"
   ]
  },
  {
   "cell_type": "markdown",
   "id": "d6ef83ce",
   "metadata": {},
   "source": [
    "### Q.7 What are the values of the following expressions?\n",
    "a.) 'Hello'.upper()\n",
    "b.) 'Hello'.upper().isupper()\n",
    "c.) 'Hello'.upper().lower()"
   ]
  },
  {
   "cell_type": "code",
   "execution_count": 8,
   "id": "a2bed569",
   "metadata": {},
   "outputs": [
    {
     "data": {
      "text/plain": [
       "\"The values of the given expressions are as follows:\\na.) 'HELLO' because .upper() function changes\\nb.) True\\nc.) 'hello' \""
      ]
     },
     "execution_count": 8,
     "metadata": {},
     "output_type": "execute_result"
    }
   ],
   "source": [
    "'''The values of the given expressions are as follows:\n",
    "a.) 'HELLO' because .upper() function changes\n",
    "b.) True\n",
    "c.) 'hello' '''"
   ]
  },
  {
   "cell_type": "markdown",
   "id": "c65c6473",
   "metadata": {},
   "source": [
    "### Q.8 What are the values of the following expressions?\n",
    "a.) 'Remember, remember, the fifth of July.'.split()\n",
    "b.) '-'.join('There can only one.'.split())"
   ]
  },
  {
   "cell_type": "code",
   "execution_count": 9,
   "id": "83599769",
   "metadata": {},
   "outputs": [
    {
     "data": {
      "text/plain": [
       "['Remember,', 'remember,', 'the', 'fifth', 'of', 'July.']"
      ]
     },
     "execution_count": 9,
     "metadata": {},
     "output_type": "execute_result"
    }
   ],
   "source": [
    "'Remember, remember, the fifth of July.'.split()"
   ]
  },
  {
   "cell_type": "code",
   "execution_count": 10,
   "id": "4f347fa2",
   "metadata": {},
   "outputs": [
    {
     "data": {
      "text/plain": [
       "'There-can-only-one.'"
      ]
     },
     "execution_count": 10,
     "metadata": {},
     "output_type": "execute_result"
    }
   ],
   "source": [
    "'-'.join('There can only one.'.split())"
   ]
  },
  {
   "cell_type": "markdown",
   "id": "c6a138eb",
   "metadata": {},
   "source": [
    "### Q.9 What are the methods for right-justifying, left-justifying, and centering a string?\n"
   ]
  },
  {
   "cell_type": "code",
   "execution_count": 11,
   "id": "a7ec1966",
   "metadata": {},
   "outputs": [
    {
     "data": {
      "text/plain": [
       "'The lstrip() and rstrip() methods can be used to remove whitespaces from the left and right ends of a string,\\nrespectively.\\n'"
      ]
     },
     "execution_count": 11,
     "metadata": {},
     "output_type": "execute_result"
    }
   ],
   "source": [
    "'''The lstrip() and rstrip() methods can be used to remove whitespaces from the left and right ends of a string,\n",
    "respectively.\n",
    "'''"
   ]
  },
  {
   "cell_type": "markdown",
   "id": "f2fad5fb",
   "metadata": {},
   "source": [
    "### Q.10 What is the best way to remove whitespace characters from the start or end?\n"
   ]
  },
  {
   "cell_type": "code",
   "execution_count": 12,
   "id": "8e658151",
   "metadata": {},
   "outputs": [
    {
     "data": {
      "text/plain": [
       "'The lstrip() and rstrip() methods can be used to remove whitespaces from the left and right ends of a string,\\nrespectively.'"
      ]
     },
     "execution_count": 12,
     "metadata": {},
     "output_type": "execute_result"
    }
   ],
   "source": [
    "'''The lstrip() and rstrip() methods can be used to remove whitespaces from the left and right ends of a string,\n",
    "respectively.'''"
   ]
  },
  {
   "cell_type": "code",
   "execution_count": null,
   "id": "a5ea11ee",
   "metadata": {},
   "outputs": [],
   "source": []
  }
 ],
 "metadata": {
  "kernelspec": {
   "display_name": "Python 3 (ipykernel)",
   "language": "python",
   "name": "python3"
  },
  "language_info": {
   "codemirror_mode": {
    "name": "ipython",
    "version": 3
   },
   "file_extension": ".py",
   "mimetype": "text/x-python",
   "name": "python",
   "nbconvert_exporter": "python",
   "pygments_lexer": "ipython3",
   "version": "3.9.12"
  }
 },
 "nbformat": 4,
 "nbformat_minor": 5
}
