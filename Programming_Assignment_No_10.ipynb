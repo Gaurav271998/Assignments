{
 "cells": [
  {
   "cell_type": "markdown",
   "id": "2e7ff472",
   "metadata": {},
   "source": [
    "Q.1)Write a Python program to find sum of elements in list?\n"
   ]
  },
  {
   "cell_type": "code",
   "execution_count": 1,
   "id": "cee81def",
   "metadata": {},
   "outputs": [
    {
     "name": "stdout",
     "output_type": "stream",
     "text": [
      "The sum of all the elements in the given list is  25042\n"
     ]
    }
   ],
   "source": [
    "def List_Elements_Sum(x):\n",
    "    \"\"\"\n",
    "    It is a function to find the sum of all the elements in the given list.\n",
    "    It takes a list as argument.\n",
    "    The datatype of elements in the list can be integer, floating-point or complex number\n",
    "    .\n",
    "    \"\"\"\n",
    "    if type(x) == list:\n",
    "        SUM = 0\n",
    "        for i in range(len(x)):\n",
    "            SUM = SUM + x[i]\n",
    "        print(\"The sum of all the elements in the given list is \",SUM)\n",
    "    else:\n",
    "            print(\"WARNING!!!!! Please give input in the form of a list\")\n",
    "\n",
    "List_Elements_Sum([1234,23345,456,7])\n"
   ]
  },
  {
   "cell_type": "markdown",
   "id": "f06d3ad3",
   "metadata": {},
   "source": [
    "Q.2) Write a Python program to Multiply all numbers in the list?\n"
   ]
  },
  {
   "cell_type": "code",
   "execution_count": 2,
   "id": "df784aa1",
   "metadata": {},
   "outputs": [
    {
     "name": "stdout",
     "output_type": "stream",
     "text": [
      "The product of all the elements in the given list is  91954274160\n"
     ]
    }
   ],
   "source": [
    "def List_Elements_Product(x):\n",
    "    \"\"\"\n",
    "    It is a function to find the product of all the elements in the given list.\n",
    "    It takes a list as argument.\n",
    "    The datatype of elements in the list can be integer, floating-point or complex number\n",
    "    .\n",
    "    \"\"\"\n",
    "    if type(x) == list:\n",
    "        PRODUCT = 1\n",
    "        for i in range(len(x)):\n",
    "            PRODUCT = PRODUCT * x[i]\n",
    "        print(\"The product of all the elements in the given list is \",PRODUCT)\n",
    "    else:\n",
    "        print(\"WARNING!!!!! Please give input in the form of a list\")\n",
    "List_Elements_Product([1234,23345,456,7])"
   ]
  },
  {
   "cell_type": "markdown",
   "id": "52e70517",
   "metadata": {},
   "source": [
    "Q.3) Write a Python program to find smallest number in a list?\n"
   ]
  },
  {
   "cell_type": "code",
   "execution_count": 4,
   "id": "5d3f6d70",
   "metadata": {},
   "outputs": [
    {
     "name": "stdout",
     "output_type": "stream",
     "text": [
      "The smallest of all the elements in the given list is  7\n"
     ]
    }
   ],
   "source": [
    "def List_Elements_Smallest(x):\n",
    "    \"\"\"\n",
    "    It is a function to find the smallest number of all the elements in the given list.\n",
    "    It takes a list as argument.\n",
    "    The datatype of elements in the list can be integer or floating-point.\n",
    "    \"\"\"\n",
    "    if type(x) == list:\n",
    "        SMALLEST = x[1]\n",
    "        for i in range(len(x)):\n",
    "            if x[1] <= x[i]:\n",
    "                SMALLEST = x[1]\n",
    "            else:\n",
    "                SMALLEST = x[i]\n",
    "                x[1] = SMALLEST\n",
    "        print(\"The smallest of all the elements in the given list is \",SMALLEST)\n",
    "    else:\n",
    "        print(\"WARNING!!!!! Please give input in the form of a list\")\n",
    "List_Elements_Smallest([1234,23345,456,7])"
   ]
  },
  {
   "cell_type": "markdown",
   "id": "8646dd83",
   "metadata": {},
   "source": [
    "Q.4) Write a Python program to find largest number in a list?\n"
   ]
  },
  {
   "cell_type": "code",
   "execution_count": 5,
   "id": "d711f767",
   "metadata": {},
   "outputs": [
    {
     "name": "stdout",
     "output_type": "stream",
     "text": [
      "The largest of all the elements in the given list is  23345\n"
     ]
    }
   ],
   "source": [
    "def List_Elements_Largest(x):\n",
    "    \"\"\"\n",
    "    It is a function to find the largest number of all the elements in the given list.\n",
    "    It takes a list as argument.\n",
    "    The datatype of elements in the list can be integer or floating-point.\n",
    "    \"\"\"\n",
    "    if type(x) == list:\n",
    "        LARGEST = x[1]\n",
    "        for i in range(len(x)):\n",
    "            if x[1] >= x[i]:\n",
    "                LARGEST = x[1]\n",
    "            else:\n",
    "                LARGEST = x[i]\n",
    "                x[1] = LARGEST\n",
    "        print(\"The largest of all the elements in the given list is \",LARGEST)\n",
    "    else:\n",
    "        print(\"WARNING!!!!! Please give input in the form of a list\")\n",
    "List_Elements_Largest([1234,23345,456,7])"
   ]
  },
  {
   "cell_type": "markdown",
   "id": "c24fb4c5",
   "metadata": {},
   "source": [
    "Q.5)Write a Python program to find second largest number in a list?\n"
   ]
  },
  {
   "cell_type": "code",
   "execution_count": 6,
   "id": "ceac8b49",
   "metadata": {},
   "outputs": [
    {
     "name": "stdout",
     "output_type": "stream",
     "text": [
      "The second largest number in the given list is  1234\n"
     ]
    }
   ],
   "source": [
    "def List_Elements_Second_Largest(x):\n",
    "    \"\"\"\n",
    "    It is a function to find the second largest number of all the elements in the given l\n",
    "    ist.\n",
    "    It takes a list as argument.\n",
    "    The datatype of elements in the list can be integer or floating-point.\n",
    "    \"\"\"\n",
    "    if type(x) == list:\n",
    "        Sorted_List = sorted(x)\n",
    "        Reversed_Sorted_List = sorted(x)[::-1]\n",
    "        print(\"The second largest number in the given list is \", Reversed_Sorted_List[1])\n",
    "List_Elements_Second_Largest([1234,23345,456,7])"
   ]
  },
  {
   "cell_type": "markdown",
   "id": "a4f62d95",
   "metadata": {},
   "source": [
    "Q.6) Write a Python program to find N largest elements from a list?\n"
   ]
  },
  {
   "cell_type": "code",
   "execution_count": 8,
   "id": "b8746bcb",
   "metadata": {},
   "outputs": [
    {
     "name": "stdout",
     "output_type": "stream",
     "text": [
      "202\n",
      "[23345, 1234, 456, 7]\n"
     ]
    }
   ],
   "source": [
    "def List_Elements_N_Largest(x):\n",
    "    \"\"\"\n",
    "    It is a function to find the list of N largest number of all the elements in the give\n",
    "    n list.\n",
    "    The value of N is given by the user, it can be any positive number less than or equal\n",
    "    to\n",
    "    the number of elements in the given list.\n",
    "    It takes a list as argument.\n",
    "    The datatype of elements in the list can be integer or floating-point.\n",
    "    \"\"\"\n",
    "    if type(x) == list:\n",
    "        Sorted_List = sorted(x)\n",
    "        Reversed_Sorted_List = sorted(x)[::-1]\n",
    "        N = int(input())\n",
    "        print(Reversed_Sorted_List[:N:])\n",
    "List_Elements_N_Largest([1234,23345,456,7])\n"
   ]
  },
  {
   "cell_type": "markdown",
   "id": "45130266",
   "metadata": {},
   "source": [
    "Q.7) Write a Python program to print even numbers in a list?\n"
   ]
  },
  {
   "cell_type": "code",
   "execution_count": 9,
   "id": "e447ab57",
   "metadata": {},
   "outputs": [
    {
     "name": "stdout",
     "output_type": "stream",
     "text": [
      "The even numbers in the given list are:  [1234, 456]\n"
     ]
    }
   ],
   "source": [
    "def List_Elements_Even(x):\n",
    "    \"\"\"\n",
    "    It is a function to find the list of even numbers from the given list.\n",
    "    It takes a list as argument.\n",
    "    The datatype of elements in the list can be integer or floating-point.\n",
    "    \"\"\"\n",
    "    if type(x) == list:\n",
    "        List = []\n",
    "        for i in range(len(x)):\n",
    "            if x[i]%2 == 0:\n",
    "                List.append(x[i])\n",
    "        print(\"The even numbers in the given list are: \",List)\n",
    "\n",
    "List_Elements_Even([1234,23345,456,7])\n"
   ]
  },
  {
   "cell_type": "markdown",
   "id": "7931770a",
   "metadata": {},
   "source": [
    "Q.8) Write a Python program to print odd numbers in a List?\n"
   ]
  },
  {
   "cell_type": "code",
   "execution_count": 10,
   "id": "19bfcf70",
   "metadata": {},
   "outputs": [
    {
     "name": "stdout",
     "output_type": "stream",
     "text": [
      "The odd numbers in the given list are:  [23345, 7]\n"
     ]
    }
   ],
   "source": [
    "def List_Elements_Odd(x):\n",
    "    \"\"\"\n",
    "    It is a function to find the list of odd numbers from the given list.\n",
    "    It takes a list as argument.\n",
    "    The datatype of elements in the list can be integer or floating-point.\n",
    "    \"\"\"\n",
    "    if type(x) == list:\n",
    "        List = []\n",
    "        for i in range(len(x)):\n",
    "            if x[i]%2 != 0:\n",
    "                List.append(x[i])\n",
    "        print(\"The odd numbers in the given list are: \",List)\n",
    "List_Elements_Odd([1234,23345,456,7])"
   ]
  },
  {
   "cell_type": "markdown",
   "id": "0a05db1a",
   "metadata": {},
   "source": [
    "Q.9) Write a Python program to Remove empty List from List?\n"
   ]
  },
  {
   "cell_type": "code",
   "execution_count": 11,
   "id": "5faadd6d",
   "metadata": {},
   "outputs": [
    {
     "name": "stdout",
     "output_type": "stream",
     "text": [
      "The modified list is as:  [1234, 23345, 456, 7]\n"
     ]
    }
   ],
   "source": [
    "def List_Elements_Remove(x):\n",
    "    \"\"\"\n",
    "    It is a function to remove empty list from the given list.\n",
    "    It takes a list as argument.\n",
    "    It returns the remaining list, i.e. the list after removing the empty list, as an out\n",
    "    put .\n",
    "    \"\"\"\n",
    "    if type(x) == list:\n",
    "        Modified_List = []\n",
    "        for i in range(len(x)):\n",
    "            if x[i] != []:\n",
    "                Modified_List.append(x[i])\n",
    "        print(\"The modified list is as: \", Modified_List)\n",
    "List_Elements_Remove([1234,23345,456,[],[],7])\n"
   ]
  },
  {
   "cell_type": "markdown",
   "id": "9b5e8765",
   "metadata": {},
   "source": [
    "Q.10) Write a Python program to Cloning or Copying a list?\n"
   ]
  },
  {
   "cell_type": "code",
   "execution_count": 12,
   "id": "1b1f581f",
   "metadata": {},
   "outputs": [
    {
     "name": "stdout",
     "output_type": "stream",
     "text": [
      "The cloned list is:  \n",
      " [1234, 23345, 456, [], [3245, 345, 34], 7]\n"
     ]
    }
   ],
   "source": [
    "def List_Cloning(x):\n",
    "    \"\"\"\n",
    "    It is a unction to copy or clone a given list.\n",
    "    It takes a list as argument.\n",
    "    \"\"\"\n",
    "    if type(x) == list:\n",
    "        Cloned_List = x[:]\n",
    "    print(\"The cloned list is: \",\"\\n\",Cloned_List)\n",
    "List_Cloning([1234,23345,456,[],[3245,345,34],7])\n"
   ]
  },
  {
   "cell_type": "markdown",
   "id": "3a186ff3",
   "metadata": {},
   "source": [
    "Q.11) Write a Python program to Count occurrences of an element in a list?\n"
   ]
  },
  {
   "cell_type": "code",
   "execution_count": 13,
   "id": "df9c4488",
   "metadata": {},
   "outputs": [
    {
     "name": "stdout",
     "output_type": "stream",
     "text": [
      "3 has occurred 5 number of times in the given list\n"
     ]
    }
   ],
   "source": [
    "def List_Count_Occurrence(x, element):\n",
    "    \"\"\"\n",
    "    It is a function to count the number of occurences of a given element in the given li\n",
    "    st.\n",
    "    It takes two arguments.\n",
    "    First argument is the list.\n",
    "    Second argument is the element for which you want to find its number of occurences in\n",
    "    the provided list.\n",
    "    \"\"\"\n",
    "    if type(x) == list:\n",
    "        Count = 0\n",
    "        for i in x:\n",
    "            if i == element:\n",
    "                Count = Count + 1\n",
    "        print(element, \"has occurred\", Count, \"number of times in the given list\")\n",
    "List_Count_Occurrence([31,2,3,12,3,3,45,34,5,5,6,67,68,3,3,2,4,44,54,65,67,56,23,4], 3)"
   ]
  },
  {
   "cell_type": "code",
   "execution_count": null,
   "id": "67d96816",
   "metadata": {},
   "outputs": [],
   "source": []
  }
 ],
 "metadata": {
  "kernelspec": {
   "display_name": "Python 3 (ipykernel)",
   "language": "python",
   "name": "python3"
  },
  "language_info": {
   "codemirror_mode": {
    "name": "ipython",
    "version": 3
   },
   "file_extension": ".py",
   "mimetype": "text/x-python",
   "name": "python",
   "nbconvert_exporter": "python",
   "pygments_lexer": "ipython3",
   "version": "3.9.12"
  }
 },
 "nbformat": 4,
 "nbformat_minor": 5
}
