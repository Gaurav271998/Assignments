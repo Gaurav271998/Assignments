{
 "cells": [
  {
   "cell_type": "markdown",
   "id": "67463c2e-e6d6-4988-aee0-2089a9cf1914",
   "metadata": {},
   "source": [
    "Q.1 Write a Python Program to Find the Factorial of a Number?"
   ]
  },
  {
   "cell_type": "code",
   "execution_count": 1,
   "id": "7001b905-7e15-44b2-b613-16e06c18232d",
   "metadata": {},
   "outputs": [
    {
     "name": "stdin",
     "output_type": "stream",
     "text": [
      "Enter a no. 5\n"
     ]
    },
    {
     "name": "stdout",
     "output_type": "stream",
     "text": [
      "120\n"
     ]
    }
   ],
   "source": [
    "import math\n",
    "n = int(input(\"Enter a no.\"))\n",
    "print(math.factorial(n))"
   ]
  },
  {
   "cell_type": "markdown",
   "id": "88807ae8-6b0f-4bd1-a0d5-53b2ef369a03",
   "metadata": {},
   "source": [
    "Q.2 Write a Python Program to Display the multiplication Table?"
   ]
  },
  {
   "cell_type": "code",
   "execution_count": 2,
   "id": "61afcf80-4ce5-4447-ab2a-9bc226d0dd39",
   "metadata": {},
   "outputs": [
    {
     "name": "stdin",
     "output_type": "stream",
     "text": [
      "Enter a no. 10\n"
     ]
    },
    {
     "name": "stdout",
     "output_type": "stream",
     "text": [
      "10 * 1 = 10\n",
      "10 * 2 = 20\n",
      "10 * 3 = 30\n",
      "10 * 4 = 40\n",
      "10 * 5 = 50\n",
      "10 * 6 = 60\n",
      "10 * 7 = 70\n",
      "10 * 8 = 80\n",
      "10 * 9 = 90\n",
      "10 * 10 = 100\n"
     ]
    }
   ],
   "source": [
    "n = int(input(\"Enter a no.\"))\n",
    "for i in range(1,11):\n",
    "    value = n*i\n",
    "    print(n,\"*\",i,\"=\",value)"
   ]
  },
  {
   "cell_type": "markdown",
   "id": "f1080d39-f226-445f-8ea4-101c754eccc5",
   "metadata": {},
   "source": [
    "Q 3.Write a Python Program to Print the Fibonacci sequence?"
   ]
  },
  {
   "cell_type": "code",
   "execution_count": 8,
   "id": "74e590bf-a955-47e0-a34a-8596781369bb",
   "metadata": {},
   "outputs": [
    {
     "name": "stdin",
     "output_type": "stream",
     "text": [
      "How many terms?  10\n"
     ]
    },
    {
     "name": "stdout",
     "output_type": "stream",
     "text": [
      "Fibonacci sequence:\n",
      "0\n",
      "1\n",
      "1\n",
      "2\n",
      "3\n",
      "5\n",
      "8\n",
      "13\n",
      "21\n",
      "34\n"
     ]
    }
   ],
   "source": [
    "nterms = int(input(\"How many terms? \"))\n",
    "n1, n2 = 0, 1\n",
    "count = 0\n",
    "if nterms <= 0:\n",
    "   print(\"Please enter a positive integer\")\n",
    "\n",
    "elif nterms == 1:\n",
    "   print(\"Fibonacci sequence upto\",nterms,\":\")\n",
    "   print(n1)\n",
    "\n",
    "else:\n",
    "   print(\"Fibonacci sequence:\")\n",
    "   while count < nterms:\n",
    "       print(n1)\n",
    "       nth = n1 + n2\n",
    "       # update values\n",
    "       n1 = n2\n",
    "       n2 = nth\n",
    "       count += 1"
   ]
  },
  {
   "cell_type": "markdown",
   "id": "0633f9c7-a2b4-49a9-89fd-96ea418e63f8",
   "metadata": {},
   "source": [
    "Q.4.Write a Python Program to Check Armstrong Number?"
   ]
  },
  {
   "cell_type": "code",
   "execution_count": 9,
   "id": "fc747ccf-364b-48b0-9e24-afe827040756",
   "metadata": {},
   "outputs": [
    {
     "name": "stdin",
     "output_type": "stream",
     "text": [
      "Enter a number:  25\n"
     ]
    },
    {
     "name": "stdout",
     "output_type": "stream",
     "text": [
      "25 is not an Armstrong number\n"
     ]
    }
   ],
   "source": [
    "num = int(input(\"Enter a number: \"))\n",
    "sum = 0\n",
    "temp = num\n",
    "while temp > 0:\n",
    "   digit = temp % 10\n",
    "   sum += digit ** 3\n",
    "   temp //= 10\n",
    "\n",
    "if num == sum:\n",
    "   print(num,\"is an Armstrong number\")\n",
    "else:\n",
    "   print(num,\"is not an Armstrong number\")"
   ]
  },
  {
   "cell_type": "markdown",
   "id": "875ea515-4368-4676-a1f2-f55ea3c03fca",
   "metadata": {},
   "source": [
    "Q.6.Write a Python Program to Find the Sum of Natural Numbers?"
   ]
  },
  {
   "cell_type": "code",
   "execution_count": 10,
   "id": "581399f5-403d-4f9c-8e35-990f650920ff",
   "metadata": {},
   "outputs": [
    {
     "name": "stdin",
     "output_type": "stream",
     "text": [
      "Enter Number to calculate sum 5\n"
     ]
    },
    {
     "name": "stdout",
     "output_type": "stream",
     "text": [
      "SUM of first  5 numbers is:  15\n"
     ]
    }
   ],
   "source": [
    "n = input(\"Enter Number to calculate sum\")\n",
    "n = int (n)\n",
    "sum = 0\n",
    "for num in range(0, n+1, 1):\n",
    "    sum = sum+num\n",
    "print(\"SUM of first \", n, \"numbers is: \", sum )"
   ]
  },
  {
   "cell_type": "code",
   "execution_count": null,
   "id": "97f3b13a-5553-45d0-bbfa-17770421f3fe",
   "metadata": {},
   "outputs": [],
   "source": []
  }
 ],
 "metadata": {
  "kernelspec": {
   "display_name": "Python 3 (ipykernel)",
   "language": "python",
   "name": "python3"
  },
  "language_info": {
   "codemirror_mode": {
    "name": "ipython",
    "version": 3
   },
   "file_extension": ".py",
   "mimetype": "text/x-python",
   "name": "python",
   "nbconvert_exporter": "python",
   "pygments_lexer": "ipython3",
   "version": "3.9.12"
  }
 },
 "nbformat": 4,
 "nbformat_minor": 5
}
