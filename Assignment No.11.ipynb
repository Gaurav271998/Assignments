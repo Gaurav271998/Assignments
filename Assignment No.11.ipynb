{
 "cells": [
  {
   "cell_type": "markdown",
   "id": "218e48e7",
   "metadata": {},
   "source": [
    "### Q.1 Create an assert statement that throws an AssertionError if the variable spam is a negative integer.\n"
   ]
  },
  {
   "cell_type": "code",
   "execution_count": 14,
   "id": "99968497",
   "metadata": {},
   "outputs": [
    {
     "name": "stdout",
     "output_type": "stream",
     "text": [
      "Enter a positive integer in order to not to get any AssertionError: -8975466\n"
     ]
    },
    {
     "ename": "AssertionError",
     "evalue": "The spam variable is a negative number, which is unacceptable.",
     "output_type": "error",
     "traceback": [
      "\u001b[1;31m---------------------------------------------------------------------------\u001b[0m",
      "\u001b[1;31mAssertionError\u001b[0m                            Traceback (most recent call last)",
      "Input \u001b[1;32mIn [14]\u001b[0m, in \u001b[0;36m<cell line: 2>\u001b[1;34m()\u001b[0m\n\u001b[0;32m      1\u001b[0m spam \u001b[38;5;241m=\u001b[39m \u001b[38;5;28mint\u001b[39m(\u001b[38;5;28minput\u001b[39m(\u001b[38;5;124m\"\u001b[39m\u001b[38;5;124mEnter a positive integer in order to not to get any AssertionError: \u001b[39m\u001b[38;5;124m\"\u001b[39m))\n\u001b[1;32m----> 2\u001b[0m \u001b[38;5;28;01massert\u001b[39;00m spam \u001b[38;5;241m>\u001b[39m\u001b[38;5;241m=\u001b[39m \u001b[38;5;241m0\u001b[39m, \u001b[38;5;124m\"\u001b[39m\u001b[38;5;124mThe spam variable is a negative number, which is unacceptable.\u001b[39m\u001b[38;5;124m\"\u001b[39m\n",
      "\u001b[1;31mAssertionError\u001b[0m: The spam variable is a negative number, which is unacceptable."
     ]
    }
   ],
   "source": [
    "spam = int(input(\"Enter a positive integer in order to not to get any AssertionError: \"))\n",
    "assert spam >= 0, \"The spam variable is a negative number, which is unacceptable.\"\n",
    "\n"
   ]
  },
  {
   "cell_type": "markdown",
   "id": "4d5e4265",
   "metadata": {},
   "source": [
    "### Q.2 Write an assert statement that triggers an AssertionError if the variables eggs and bacon contain strings that are the same as each other, even if their cases are different (that is, 'hello' and 'hello' are considered the same, and 'goodbye' and 'GOODbye' are also considered the same)."
   ]
  },
  {
   "cell_type": "code",
   "execution_count": 16,
   "id": "6ace61b2",
   "metadata": {},
   "outputs": [
    {
     "name": "stdout",
     "output_type": "stream",
     "text": [
      "Enter any string: puBg\n",
      "Enter any string: PUbg\n"
     ]
    },
    {
     "ename": "AssertionError",
     "evalue": "The eggs and bacon variables are the same!",
     "output_type": "error",
     "traceback": [
      "\u001b[1;31m---------------------------------------------------------------------------\u001b[0m",
      "\u001b[1;31mAssertionError\u001b[0m                            Traceback (most recent call last)",
      "Input \u001b[1;32mIn [16]\u001b[0m, in \u001b[0;36m<cell line: 3>\u001b[1;34m()\u001b[0m\n\u001b[0;32m      1\u001b[0m eggs \u001b[38;5;241m=\u001b[39m \u001b[38;5;28minput\u001b[39m(\u001b[38;5;124m\"\u001b[39m\u001b[38;5;124mEnter any string: \u001b[39m\u001b[38;5;124m\"\u001b[39m)\n\u001b[0;32m      2\u001b[0m bacon \u001b[38;5;241m=\u001b[39m \u001b[38;5;28minput\u001b[39m(\u001b[38;5;124m\"\u001b[39m\u001b[38;5;124mEnter any string: \u001b[39m\u001b[38;5;124m\"\u001b[39m)\n\u001b[1;32m----> 3\u001b[0m \u001b[38;5;28;01massert\u001b[39;00m eggs\u001b[38;5;241m.\u001b[39mlower() \u001b[38;5;241m!=\u001b[39m bacon\u001b[38;5;241m.\u001b[39mlower(), \u001b[38;5;124m\"\u001b[39m\u001b[38;5;124mThe eggs and bacon variables are the same!\u001b[39m\u001b[38;5;124m\"\u001b[39m\n\u001b[0;32m      4\u001b[0m \u001b[38;5;28;01massert\u001b[39;00m eggs\u001b[38;5;241m.\u001b[39mupper() \u001b[38;5;241m!=\u001b[39m bacon\u001b[38;5;241m.\u001b[39mupper(), \u001b[38;5;124m\"\u001b[39m\u001b[38;5;124mThe eggs and bacon variables are the same!\u001b[39m\u001b[38;5;124m\"\u001b[39m\n",
      "\u001b[1;31mAssertionError\u001b[0m: The eggs and bacon variables are the same!"
     ]
    }
   ],
   "source": [
    "eggs = input(\"Enter any string: \")\n",
    "bacon = input(\"Enter any string: \")\n",
    "assert eggs.lower() != bacon.lower(), \"The eggs and bacon variables are the same!\"\n",
    "assert eggs.upper() != bacon.upper(), \"The eggs and bacon variables are the same!\""
   ]
  },
  {
   "cell_type": "markdown",
   "id": "aeefa33a",
   "metadata": {},
   "source": [
    "### Q.3 Create an assert statement that throws an AssertionError every time.\n",
    "\n"
   ]
  },
  {
   "cell_type": "code",
   "execution_count": 17,
   "id": "0a3427d1",
   "metadata": {},
   "outputs": [
    {
     "ename": "AssertionError",
     "evalue": "This assertion statement always throws an AssertionError.",
     "output_type": "error",
     "traceback": [
      "\u001b[1;31m---------------------------------------------------------------------------\u001b[0m",
      "\u001b[1;31mAssertionError\u001b[0m                            Traceback (most recent call last)",
      "Input \u001b[1;32mIn [17]\u001b[0m, in \u001b[0;36m<cell line: 1>\u001b[1;34m()\u001b[0m\n\u001b[1;32m----> 1\u001b[0m \u001b[38;5;28;01massert\u001b[39;00m \u001b[38;5;28;01mFalse\u001b[39;00m, \u001b[38;5;124m'\u001b[39m\u001b[38;5;124mThis assertion statement always throws an AssertionError.\u001b[39m\u001b[38;5;124m'\u001b[39m\n",
      "\u001b[1;31mAssertionError\u001b[0m: This assertion statement always throws an AssertionError."
     ]
    }
   ],
   "source": [
    "assert False, 'This assertion statement always throws an AssertionError.'\n"
   ]
  },
  {
   "cell_type": "markdown",
   "id": "b025e8fc",
   "metadata": {},
   "source": [
    "### Q.4 What are the two lines that must be present in your software in order to call logging.debug()?\n"
   ]
  },
  {
   "cell_type": "code",
   "execution_count": 18,
   "id": "3f30613b",
   "metadata": {},
   "outputs": [
    {
     "data": {
      "text/plain": [
       "\"In order to call logging.debug(), we must have following two lines at the start of our program:\\nimport logging\\nlogging.basicConfig(level = logging.DEBUG, format = ' %(asctime)s %(levelname)s %(message)s')\\n\""
      ]
     },
     "execution_count": 18,
     "metadata": {},
     "output_type": "execute_result"
    }
   ],
   "source": [
    "'''In order to call logging.debug(), we must have following two lines at the start of our program:\n",
    "import logging\n",
    "logging.basicConfig(level = logging.DEBUG, format = ' %(asctime)s %(levelname)s %(message)s')\n",
    "'''"
   ]
  },
  {
   "cell_type": "markdown",
   "id": "f4992f0b",
   "metadata": {},
   "source": [
    "### Q.5 What are the two lines that your program must have in order to have logging.debug() send a logging message to a file named programLog.txt?"
   ]
  },
  {
   "cell_type": "code",
   "execution_count": 19,
   "id": "2a583504",
   "metadata": {},
   "outputs": [
    {
     "data": {
      "text/plain": [
       "\"To be able to send logging messages to a file named programLog.txt with logging.debug(), we must have\\nfollowing two lines at the start of our program:\\nimport logging\\nlogging.basicConfig(filename = 'programLog.txt', level = logging.DEBUG, format = ' %(asctime)s %(levelname)s\\n%(message)s')\""
      ]
     },
     "execution_count": 19,
     "metadata": {},
     "output_type": "execute_result"
    }
   ],
   "source": [
    "'''To be able to send logging messages to a file named programLog.txt with logging.debug(), we must have\n",
    "following two lines at the start of our program:\n",
    "import logging\n",
    "logging.basicConfig(filename = 'programLog.txt', level = logging.DEBUG, format = ' %(asctime)s %(levelname)s\n",
    "%(message)s')'''"
   ]
  },
  {
   "cell_type": "markdown",
   "id": "e58defcb",
   "metadata": {},
   "source": [
    "### Q.6 What are the five levels of logging?\n"
   ]
  },
  {
   "cell_type": "code",
   "execution_count": 20,
   "id": "27b2f51b",
   "metadata": {},
   "outputs": [
    {
     "data": {
      "text/plain": [
       "'DEBUG, INFO, WARNING, ERROR, and CRITICAL are the five levels of logging in ascending order.\\n'"
      ]
     },
     "execution_count": 20,
     "metadata": {},
     "output_type": "execute_result"
    }
   ],
   "source": [
    "'''DEBUG, INFO, WARNING, ERROR, and CRITICAL are the five levels of logging in ascending order.\n",
    "'''"
   ]
  },
  {
   "cell_type": "markdown",
   "id": "ef1d6343",
   "metadata": {},
   "source": [
    "### Q.7 What line of code would you add to your software to disable all logging messages?\n"
   ]
  },
  {
   "cell_type": "code",
   "execution_count": 21,
   "id": "332e735f",
   "metadata": {},
   "outputs": [
    {
     "data": {
      "text/plain": [
       "'logging.disable(logging.CRITICAL) can be added to our program in order to disable all logging messages.\\n'"
      ]
     },
     "execution_count": 21,
     "metadata": {},
     "output_type": "execute_result"
    }
   ],
   "source": [
    "'''logging.disable(logging.CRITICAL) can be added to our program in order to disable all logging messages.\n",
    "'''"
   ]
  },
  {
   "cell_type": "markdown",
   "id": "40d2aada",
   "metadata": {},
   "source": [
    "### Q.8 Why is using logging messages better than using print() to display the same message?\n"
   ]
  },
  {
   "cell_type": "code",
   "execution_count": 22,
   "id": "345fb7e6",
   "metadata": {},
   "outputs": [
    {
     "data": {
      "text/plain": [
       "'1.) We can disable logging messages without removing the logging function calls.\\n2.) We can selectively disable lower-level logging messages.\\n3.) We can create logging messages.\\n4.) Logging messages provides a timestamp\\n'"
      ]
     },
     "execution_count": 22,
     "metadata": {},
     "output_type": "execute_result"
    }
   ],
   "source": [
    "'''1.) We can disable logging messages without removing the logging function calls.\n",
    "2.) We can selectively disable lower-level logging messages.\n",
    "3.) We can create logging messages.\n",
    "4.) Logging messages provides a timestamp\n",
    "'''"
   ]
  },
  {
   "cell_type": "markdown",
   "id": "c948215a",
   "metadata": {},
   "source": [
    "### Q.9 What are the differences between the Step Over, Step In, and Step Out buttons in the debugger?\n"
   ]
  },
  {
   "cell_type": "code",
   "execution_count": 23,
   "id": "7076b5a8",
   "metadata": {},
   "outputs": [
    {
     "data": {
      "text/plain": [
       "'The Step In button moves the debugger into a function call. The Step Over button quickly executes the function\\ncall without stepping into it. The Step Out button quickly executes the rest of the code until it steps out of the\\nfunction it currently is in.'"
      ]
     },
     "execution_count": 23,
     "metadata": {},
     "output_type": "execute_result"
    }
   ],
   "source": [
    "'''The Step In button moves the debugger into a function call. The Step Over button quickly executes the function\n",
    "call without stepping into it. The Step Out button quickly executes the rest of the code until it steps out of the\n",
    "function it currently is in.'''"
   ]
  },
  {
   "cell_type": "markdown",
   "id": "c64d70ba",
   "metadata": {},
   "source": [
    "### Q.10 After you click Continue, when will the debugger stop ?\n"
   ]
  },
  {
   "cell_type": "code",
   "execution_count": 24,
   "id": "dd0dd908",
   "metadata": {},
   "outputs": [
    {
     "data": {
      "text/plain": [
       "'After we click Continue, the debugger will stop when it has reached the end of the program or a line with a\\nbreakpoint.'"
      ]
     },
     "execution_count": 24,
     "metadata": {},
     "output_type": "execute_result"
    }
   ],
   "source": [
    "'''After we click Continue, the debugger will stop when it has reached the end of the program or a line with a\n",
    "breakpoint.'''"
   ]
  },
  {
   "cell_type": "markdown",
   "id": "dde80c82",
   "metadata": {},
   "source": [
    "### Q.11 What is the concept of a breakpoint?\n"
   ]
  },
  {
   "cell_type": "code",
   "execution_count": 25,
   "id": "b31dc32e",
   "metadata": {},
   "outputs": [
    {
     "data": {
      "text/plain": [
       "'A breakpoint is a setting on a line of code that causes the debugger to pause when the program execution\\nreaches the line.'"
      ]
     },
     "execution_count": 25,
     "metadata": {},
     "output_type": "execute_result"
    }
   ],
   "source": [
    "'''A breakpoint is a setting on a line of code that causes the debugger to pause when the program execution\n",
    "reaches the line.'''"
   ]
  },
  {
   "cell_type": "code",
   "execution_count": null,
   "id": "53eaf00a",
   "metadata": {},
   "outputs": [],
   "source": []
  }
 ],
 "metadata": {
  "kernelspec": {
   "display_name": "Python 3 (ipykernel)",
   "language": "python",
   "name": "python3"
  },
  "language_info": {
   "codemirror_mode": {
    "name": "ipython",
    "version": 3
   },
   "file_extension": ".py",
   "mimetype": "text/x-python",
   "name": "python",
   "nbconvert_exporter": "python",
   "pygments_lexer": "ipython3",
   "version": "3.9.12"
  }
 },
 "nbformat": 4,
 "nbformat_minor": 5
}
