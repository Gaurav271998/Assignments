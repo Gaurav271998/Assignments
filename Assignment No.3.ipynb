{
 "cells": [
  {
   "cell_type": "markdown",
   "id": "b0463098",
   "metadata": {},
   "source": [
    "1. Why are functions advantageous to have in your programs?\n",
    "2. When does the code in a function run: when it's specified or when it's called?\n",
    "3. What statement creates a function?\n",
    "4. What is the difference between a function and a function call?\n",
    "5. How many global scopes are there in a Python program? How many local scopes?\n",
    "6. What happens to variables in a local scope when the function call returns?\n",
    "7. What is the concept of a return value? Is it possible to have a return value in an expression?\n",
    "8. If a function does not have a return statement, what is the return value of a call to that function?\n",
    "9. How do you make a function variable refer to the global variable?\n",
    "10. What is the data type of None?\n",
    "11. What does the sentence import areallyourpetsnamederic do?\n",
    "12. If you had a bacon() feature in a spam module, what would you call it after importing spam?\n",
    "13. What can you do to save a programme from crashing if it encounters an error?\n",
    "14. What is the purpose of the try clause? What is the purpose of the except clause?\n"
   ]
  },
  {
   "cell_type": "markdown",
   "id": "44609ed3",
   "metadata": {},
   "source": [
    "### Q.1\n",
    "1. Reusiability - Once a function is written, it can be called multiple times from within the program.\n",
    "2. Testing - Because functions reduce code redundancy, there’s less code to test in the first place.\n",
    "3. Time saving"
   ]
  },
  {
   "cell_type": "markdown",
   "id": "6b7cf02b",
   "metadata": {},
   "source": [
    "### Q.2\n",
    "The code in function run when we called it. without calling it can't be run"
   ]
  },
  {
   "cell_type": "markdown",
   "id": "2b5da872",
   "metadata": {},
   "source": [
    "### Q.3\n",
    "1.def function_name(\"args/kwargs\"):\n",
    "        condition/code\n",
    "          return\n",
    " \n",
    "2.def keyword is used while creating the function"
   ]
  },
  {
   "cell_type": "markdown",
   "id": "453105b5",
   "metadata": {},
   "source": [
    "### Q.4\n",
    "The difference between the function and function call is, A function is a procedure to achieve the particular result, while function call is used for call that function and run the code."
   ]
  },
  {
   "cell_type": "markdown",
   "id": "2794878b",
   "metadata": {},
   "source": [
    "### Q.5\n",
    "One globle scope and one local scope\n",
    "\n",
    "globle scope is something which is used for whole python module, we can call it outside the function.\n",
    "\n",
    "local scope is only used in within a function."
   ]
  },
  {
   "cell_type": "markdown",
   "id": "07cf9fc7",
   "metadata": {},
   "source": [
    "### Q.6\n",
    "All the local variables are destroyed as soon as we move away from that scope."
   ]
  },
  {
   "cell_type": "markdown",
   "id": "d5901550",
   "metadata": {},
   "source": [
    "### Q.7\n",
    "The specific value returned from a function is called the return value. Yes, it is possible for return function to use in expression but the value has logical or coherent meaning."
   ]
  },
  {
   "cell_type": "markdown",
   "id": "444fb20a",
   "metadata": {},
   "source": [
    "### Q.8\n",
    "Undefinied"
   ]
  },
  {
   "cell_type": "markdown",
   "id": "e385d512",
   "metadata": {},
   "source": [
    "### Q.9\n",
    "If we want to refer to a global variable in a function, we can use the global keyword to declare which variables are global."
   ]
  },
  {
   "cell_type": "markdown",
   "id": "d691dfd9",
   "metadata": {},
   "source": [
    "### Q.10\n",
    "none datatype is object"
   ]
  },
  {
   "cell_type": "markdown",
   "id": "1eb23345",
   "metadata": {},
   "source": [
    "### Q.11\n",
    "can't understand the question"
   ]
  },
  {
   "cell_type": "markdown",
   "id": "d8c40097",
   "metadata": {},
   "source": [
    "### Q.12\n",
    "If we have bacon () funtion in spam module then first we need to import the module and then we need to import the funtion too. 'from spam import bacon' This above code is used to import funtions from given module. And then we can use the imported funtion for our own utilities."
   ]
  },
  {
   "cell_type": "markdown",
   "id": "be4c6627",
   "metadata": {},
   "source": [
    "### Q.13\n",
    "We can use the \"error handling\" for notifying the user of why the error occured."
   ]
  },
  {
   "cell_type": "markdown",
   "id": "c42512a7",
   "metadata": {},
   "source": [
    "### Q.14\n"
   ]
  },
  {
   "cell_type": "code",
   "execution_count": 1,
   "id": "6068c5ea",
   "metadata": {},
   "outputs": [
    {
     "name": "stdout",
     "output_type": "stream",
     "text": [
      "Enter first number10\n",
      "Enter second number0\n",
      "number can't be zero\n"
     ]
    }
   ],
   "source": [
    "#both are used for a exceptional handling.\n",
    "#ex.\n",
    "a = int(input('Enter first number'))\n",
    "b = int(input('Enter second number'))\n",
    "try:\n",
    "    c=a/b\n",
    "    print(c)\n",
    "except ZeroDivisionError:\n",
    "    print(\"number can't be zero\")\n",
    "except ValueError:\n",
    "    print(\"input can't be string\")"
   ]
  },
  {
   "cell_type": "code",
   "execution_count": null,
   "id": "b16b12b8",
   "metadata": {},
   "outputs": [],
   "source": []
  },
  {
   "cell_type": "code",
   "execution_count": null,
   "id": "8e2f53ac",
   "metadata": {},
   "outputs": [],
   "source": []
  },
  {
   "cell_type": "code",
   "execution_count": null,
   "id": "2b3924be",
   "metadata": {},
   "outputs": [],
   "source": []
  }
 ],
 "metadata": {
  "kernelspec": {
   "display_name": "Python 3 (ipykernel)",
   "language": "python",
   "name": "python3"
  },
  "language_info": {
   "codemirror_mode": {
    "name": "ipython",
    "version": 3
   },
   "file_extension": ".py",
   "mimetype": "text/x-python",
   "name": "python",
   "nbconvert_exporter": "python",
   "pygments_lexer": "ipython3",
   "version": "3.9.12"
  }
 },
 "nbformat": 4,
 "nbformat_minor": 5
}
