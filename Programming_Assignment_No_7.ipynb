{
  "nbformat": 4,
  "nbformat_minor": 0,
  "metadata": {
    "colab": {
      "provenance": [],
      "authorship_tag": "ABX9TyP8oDQqjMXolruzsNu7CY5+",
      "include_colab_link": true
    },
    "kernelspec": {
      "name": "python3",
      "display_name": "Python 3"
    },
    "language_info": {
      "name": "python"
    }
  },
  "cells": [
    {
      "cell_type": "markdown",
      "metadata": {
        "id": "view-in-github",
        "colab_type": "text"
      },
      "source": [
        "<a href=\"https://colab.research.google.com/github/Gaurav271998/Assignments/blob/main/Programming_Assignment_No_7.ipynb\" target=\"_parent\"><img src=\"https://colab.research.google.com/assets/colab-badge.svg\" alt=\"Open In Colab\"/></a>"
      ]
    },
    {
      "cell_type": "markdown",
      "source": [
        "Q.1) Write a Python Program to find sum of array?"
      ],
      "metadata": {
        "id": "YPioiu09UqCZ"
      }
    },
    {
      "cell_type": "code",
      "source": [
        "def SumOfArray():\n",
        "  input_array = eval(input(\"Enter the Array for which you want to find the sum of its elements: \"))\n",
        "  print()\n",
        "  print(f'The sum of the elements in the array {input_array} is {sum(input_array)}')\n",
        "SumOfArray()"
      ],
      "metadata": {
        "colab": {
          "base_uri": "https://localhost:8080/"
        },
        "id": "LZTPfEXkUr81",
        "outputId": "5c9284fe-ec32-4309-a206-907a26d20042"
      },
      "execution_count": 2,
      "outputs": [
        {
          "output_type": "stream",
          "name": "stdout",
          "text": [
            "Enter the Array for which you want to find the sum of its elements: 1,2,3,4,5,6\n",
            "\n",
            "The sum of the elements in the array (1, 2, 3, 4, 5, 6) is 21\n"
          ]
        }
      ]
    },
    {
      "cell_type": "markdown",
      "source": [
        "Q.2) Write a Python Program to find largest element in an array?\n"
      ],
      "metadata": {
        "id": "x-ui06YoVH_H"
      }
    },
    {
      "cell_type": "code",
      "source": [
        "def Largest_Element():\n",
        "  input_array = eval(input(\"Enter the Array for which you want to find the largest of its elements: \"))\n",
        "  print()\n",
        "  print(f'The largest of the elements in the array {input_array} is {max(input_array)}')\n",
        "Largest_Element()"
      ],
      "metadata": {
        "colab": {
          "base_uri": "https://localhost:8080/"
        },
        "id": "NeoZX-TKVNOV",
        "outputId": "9a01b992-1022-409c-d8c1-36cae7669b82"
      },
      "execution_count": 3,
      "outputs": [
        {
          "output_type": "stream",
          "name": "stdout",
          "text": [
            "Enter the Array for which you want to find the largest of its elements: 1,5,45,8,9,8,7,\n",
            "\n",
            "The largest of the elements in the array (1, 5, 45, 8, 9, 8, 7) is 45\n"
          ]
        }
      ]
    },
    {
      "cell_type": "markdown",
      "source": [
        "Q.3) Write a Python Program for array rotation?\n"
      ],
      "metadata": {
        "id": "3E5ew6qGVg20"
      }
    },
    {
      "cell_type": "code",
      "source": [
        "def array_Rotation():\n",
        "    input_array = eval(input(\"Enter the Array you want to rotate: \"))\n",
        "    print()\n",
        "    print(f'The array {input_array} after a rotaion is {(input_array)[::-1]}')\n",
        "array_Rotation()"
      ],
      "metadata": {
        "colab": {
          "base_uri": "https://localhost:8080/"
        },
        "id": "45iyIqszVkpb",
        "outputId": "706caeec-6beb-4e87-efe2-de60dab2f71a"
      },
      "execution_count": 4,
      "outputs": [
        {
          "output_type": "stream",
          "name": "stdout",
          "text": [
            "Enter the Array you want to rotate: 1,2,3,5,8,9,19\n",
            "\n",
            "The array (1, 2, 3, 5, 8, 9, 19) after a rotaion is (19, 9, 8, 5, 3, 2, 1)\n"
          ]
        }
      ]
    },
    {
      "cell_type": "markdown",
      "source": [
        "Q.4) Write a Python Program to Split the array and add the first part to the end?\n"
      ],
      "metadata": {
        "id": "jn4OXr3UV4_o"
      }
    },
    {
      "cell_type": "code",
      "source": [
        "def array_split_merger():\n",
        "    input_Array = eval(input(\"Enter the array you want to split: \"))\n",
        "    print()\n",
        "    index_no = int(input(\"Enter the number of elements you want to split from the array and merge it to the end of the original array: \"))\n",
        "    print()\n",
        "    output = input_Array[index_no:len(input_Array)]+ input_Array[:index_no]\n",
        "    print(f\"The array {input_Array} after splitting and then merging is {output}\")\n",
        "array_split_merger()"
      ],
      "metadata": {
        "colab": {
          "base_uri": "https://localhost:8080/"
        },
        "id": "GVxk2-eTV9f6",
        "outputId": "ac1dcdfd-1f98-4d6e-a7bb-180f2b14cba0"
      },
      "execution_count": 7,
      "outputs": [
        {
          "output_type": "stream",
          "name": "stdout",
          "text": [
            "Enter the array you want to split: 1,2,3,4,5,6\n",
            "\n",
            "Enter the number of elements you want to split from the array and merge it to the end of the original array: 5\n",
            "\n",
            "The array (1, 2, 3, 4, 5, 6) after splitting and then merging is (6, 1, 2, 3, 4, 5)\n"
          ]
        }
      ]
    },
    {
      "cell_type": "markdown",
      "source": [
        "Q.5) Write a Python Program to check if given array is Monotonic?\n"
      ],
      "metadata": {
        "id": "fHn5QS_7W6-w"
      }
    },
    {
      "cell_type": "code",
      "source": [
        "def monotonic_Checker():\n",
        "  input_Array = eval(input(\"Enter the Array you want to check if it is monotonic or not: \"))\n",
        "  print()\n",
        "  if(all(input_Array[i] <= input_Array[i+1] for i in range(len(input_Array)-1)) or all\n",
        "    (input_Array[i] >= input_Array[i+1] for i in range(len(input_Array)-1))):\n",
        "    print(f'Array {input_Array} is Monotonic')\n",
        "  else:\n",
        "    print(f'Array {input_Array} is not Monotonic')\n",
        "monotonic_Checker()\n",
        "monotonic_Checker()\n",
        "\n"
      ],
      "metadata": {
        "colab": {
          "base_uri": "https://localhost:8080/"
        },
        "id": "x-cdK9MNW-2c",
        "outputId": "c9ab2d97-7575-4069-91bd-d071a2bf4530"
      },
      "execution_count": 9,
      "outputs": [
        {
          "output_type": "stream",
          "name": "stdout",
          "text": [
            "Enter the Array you want to check if it is monotonic or not: 1,2,3,4\n",
            "\n",
            "Array (1, 2, 3, 4) is Monotonic\n",
            "Enter the Array you want to check if it is monotonic or not: 4,55,68,87\n",
            "\n",
            "Array (4, 55, 68, 87) is Monotonic\n"
          ]
        }
      ]
    },
    {
      "cell_type": "code",
      "source": [],
      "metadata": {
        "id": "BjyOY9BXXfv4"
      },
      "execution_count": null,
      "outputs": []
    }
  ]
}