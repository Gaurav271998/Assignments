{
  "nbformat": 4,
  "nbformat_minor": 0,
  "metadata": {
    "colab": {
      "provenance": [],
      "authorship_tag": "ABX9TyOvVbwIb3xHKNNzTWlEVNnR",
      "include_colab_link": true
    },
    "kernelspec": {
      "name": "python3",
      "display_name": "Python 3"
    },
    "language_info": {
      "name": "python"
    }
  },
  "cells": [
    {
      "cell_type": "markdown",
      "metadata": {
        "id": "view-in-github",
        "colab_type": "text"
      },
      "source": [
        "<a href=\"https://colab.research.google.com/github/Gaurav271998/Assignments/blob/main/Programming_Assignment_No_6.ipynb\" target=\"_parent\"><img src=\"https://colab.research.google.com/assets/colab-badge.svg\" alt=\"Open In Colab\"/></a>"
      ]
    },
    {
      "cell_type": "markdown",
      "source": [
        "Q.1) Write a Python Program to Display Fibonacci Sequence Using Recursion?"
      ],
      "metadata": {
        "id": "azKJhULwPcWG"
      }
    },
    {
      "cell_type": "code",
      "source": [
        "def FSUR(n):\n",
        "      \"\"\"\n",
        "      FSUR is a function to display Fibonacci Sequence Using Recursion.\n",
        "      It takes number of terms as an integer as input.\n",
        "      It gives a sequence of integers as an output.\n",
        "      \"\"\"\n",
        "      if n <= 1:\n",
        "          return n\n",
        "      else:\n",
        "          return(FSUR(n-1) + FSUR(n-2))\n",
        "Number_Of_Terms = int(input(\"Enter number of terms for which you want to print Fibonaccisequence: \"))\n",
        "if Number_Of_Terms <= 0:\n",
        "  print(\"Enter positive number of terms\")\n",
        "else:\n",
        "  print(\"Fibonacci sequence for the first \", Number_Of_Terms, \" terms is: \")\n",
        "for i in range(Number_Of_Terms):\n",
        "  print(FSUR(i))"
      ],
      "metadata": {
        "colab": {
          "base_uri": "https://localhost:8080/"
        },
        "id": "ypotsc5FPisD",
        "outputId": "52f17a5e-5ec3-4139-8ae4-cc8c2c0910a3"
      },
      "execution_count": 3,
      "outputs": [
        {
          "output_type": "stream",
          "name": "stdout",
          "text": [
            "Enter number of terms for which you want to print Fibonaccisequence: 10\n",
            "Fibonacci sequence for the first  10  terms is: \n",
            "0\n",
            "1\n",
            "1\n",
            "2\n",
            "3\n",
            "5\n",
            "8\n",
            "13\n",
            "21\n",
            "34\n"
          ]
        }
      ]
    },
    {
      "cell_type": "markdown",
      "source": [
        "Q.2) Write a Python Program to Find Factorial of Number Using Recursion?\n"
      ],
      "metadata": {
        "id": "TqjZNR_1QcXz"
      }
    },
    {
      "cell_type": "code",
      "source": [
        "def FNUR(n):\n",
        "      \"\"\"\n",
        "      FSUR is a function to find Factorial of a Number Using Recursion.\n",
        "      It take integer as an input.\n",
        "      It gives integer as an output.\n",
        "      \"\"\"\n",
        "      if n == 0:\n",
        "        return 1\n",
        "      else:\n",
        "        return((FNUR(n-1)) * n)\n",
        "Number_Of_Terms = int(input(\"Enter the number for which you have to find its factorial:\"))\n",
        "if Number_Of_Terms < 0:\n",
        "  print(\"Warning !!! factorial does not exist for negative numbers\")\n",
        "else:\n",
        "  print(\"The factorial of \", Number_Of_Terms, \"is \", FNUR(Number_Of_Terms))"
      ],
      "metadata": {
        "colab": {
          "base_uri": "https://localhost:8080/"
        },
        "id": "K0vfz_KgQjwG",
        "outputId": "1d0011a8-a673-41b4-b3e0-e4c86b1a5620"
      },
      "execution_count": 4,
      "outputs": [
        {
          "output_type": "stream",
          "name": "stdout",
          "text": [
            "Enter the number for which you have to find its factorial:10\n",
            "The factorial of  10 is  3628800\n"
          ]
        }
      ]
    },
    {
      "cell_type": "markdown",
      "source": [
        "Q.3) Write a Python Program to calculate your Body Mass Index?\n"
      ],
      "metadata": {
        "id": "axaYMeETRfwI"
      }
    },
    {
      "cell_type": "code",
      "source": [
        "def BMI(Weight, Height):\n",
        "        \"\"\"\n",
        "        It is function to calculate Body Mass Index.\n",
        "        It takes two inputs, first Weight in kilograms, second Height in metres, both as floa\n",
        "        ting point number or integer.\n",
        "        It gives BMI in the form of a floating point number as an output\n",
        "        \"\"\"\n",
        "        bmi = Weight/(Height**2)\n",
        "        print(\"The Body Mass Index for the given Weight and Height is \", bmi)\n",
        "Weight = float(input(\"Enter weight in kilograms: \"))\n",
        "Height = float(input(\"Enter height in metres: \"))\n",
        "\n",
        "BMI(Weight,Height)"
      ],
      "metadata": {
        "colab": {
          "base_uri": "https://localhost:8080/"
        },
        "id": "0BigfnbwRkkn",
        "outputId": "4c765fcc-5191-4b2c-bfe9-e99829966a2a"
      },
      "execution_count": 6,
      "outputs": [
        {
          "output_type": "stream",
          "name": "stdout",
          "text": [
            "Enter weight in kilograms: 63\n",
            "Enter height in metres: 1.63\n",
            "The Body Mass Index for the given Weight and Height is  23.711844630960897\n"
          ]
        }
      ]
    },
    {
      "cell_type": "markdown",
      "source": [
        "Q.4) Write a Python Program to calculate the natural logarithm of any number?\n"
      ],
      "metadata": {
        "id": "-DkKIbWISYh1"
      }
    },
    {
      "cell_type": "code",
      "source": [
        "def NL(Number):\n",
        "      \"\"\"\n",
        "      It is a function to calculate the natural logarith of any number.\n",
        "      Note:- The natural logarithm of any number is defined only for positive numbers.\n",
        "      It takes integer or floating point number as an input.\n",
        "      It gives output in the form of a floating point number.\n",
        "      \"\"\"\n",
        "      import math\n",
        "      if Number > 0:\n",
        "        print(\"The natural logarithm of \",Number, \" is \", math.log(Number))\n",
        "      else:\n",
        "        print(\"The natural logarithm for any number less than or equal to zero is undefined.\")\n",
        "Number = float(input(\"Enter the number for which you want its natural logarithm: \"))\n",
        "NL(Number)"
      ],
      "metadata": {
        "colab": {
          "base_uri": "https://localhost:8080/"
        },
        "id": "wobuKzfeSePp",
        "outputId": "dc5126fb-2d8e-4f9c-ff3e-4e5fa069c2cd"
      },
      "execution_count": 7,
      "outputs": [
        {
          "output_type": "stream",
          "name": "stdout",
          "text": [
            "Enter the number for which you want its natural logarithm: 2\n",
            "The natural logarithm of  2.0  is  0.6931471805599453\n"
          ]
        }
      ]
    },
    {
      "cell_type": "markdown",
      "source": [
        "Q.5) Write a Python Program for cube sum of first n natural numbers?\n"
      ],
      "metadata": {
        "id": "iTYwfmIBTZqw"
      }
    },
    {
      "cell_type": "code",
      "source": [
        "def CUBE(x):\n",
        "        \"\"\"\n",
        "        It is a function to find the sum of cube of first n natural numbers.\n",
        "        It takes Number_Of_Terms as n as input in the form of an integer.\n",
        "        It gies output in the form of an integer.\n",
        "        \"\"\"\n",
        "        if x == 1:\n",
        "            return 1\n",
        "        else:\n",
        "            return (CUBE(x-1) + (x**3))\n",
        "        Number_Of_Terms = int(input(\"Enter the natural number upto which you want to find sum ofcubes: \"))\n",
        "if Number_Of_Terms < 1:\n",
        "    print(\"Sorry! given input is not a natural number\")\n",
        "elif Number_Of_Terms == 1:\n",
        "    print(\"If you want to find sum, give input any natural number > 1\")\n",
        "else:\n",
        "    print(\"The sum of cube of first\",Number_Of_Terms, \"natural numbers is \", CUBE(Number_Of_Terms))\n"
      ],
      "metadata": {
        "colab": {
          "base_uri": "https://localhost:8080/"
        },
        "id": "6njNp651TdCA",
        "outputId": "118cb083-0c1f-4bea-b90b-e69464577c8e"
      },
      "execution_count": 9,
      "outputs": [
        {
          "output_type": "stream",
          "name": "stdout",
          "text": [
            "The sum of cube of first 10 natural numbers is  3025\n"
          ]
        }
      ]
    },
    {
      "cell_type": "code",
      "source": [],
      "metadata": {
        "id": "aV0uAjNaTupp"
      },
      "execution_count": null,
      "outputs": []
    }
  ]
}