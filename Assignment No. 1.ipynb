{
 "cells": [
  {
   "cell_type": "code",
   "execution_count": null,
   "id": "278970c2",
   "metadata": {},
   "outputs": [],
   "source": [
    "1. In the below elements which of them are values or an expression? eg:- values can be integer or string and expressions will be mathematical operators.\n",
    "* \n",
    "'hello'\n",
    "-87.8\n",
    "- \n",
    "/ \n",
    "+\n",
    "6 \n"
   ]
  },
  {
   "cell_type": "code",
   "execution_count": null,
   "id": "f0835bbc",
   "metadata": {},
   "outputs": [],
   "source": [
    "Values - -87.8,6,'hello'.\n",
    "expressions - *,-,+,/ "
   ]
  },
  {
   "cell_type": "markdown",
   "id": "b110d4a1",
   "metadata": {},
   "source": [
    "#### Q.2  What is the difference between string and variable?"
   ]
  },
  {
   "cell_type": "code",
   "execution_count": null,
   "id": "e7ed8d17",
   "metadata": {},
   "outputs": [],
   "source": [
    "String - string are nothing but the character but if we write anything between single quote('') or double quote(\"\"),\n",
    "         python will consider it as string\n",
    "variable - variables are used for storing the value and characters we can generally write it as\n",
    "            ex. a= [1,2,3]   a is nothing but the variable"
   ]
  },
  {
   "cell_type": "markdown",
   "id": "2de09e21",
   "metadata": {},
   "source": [
    "#### Q.3. Describe three different data types."
   ]
  },
  {
   "cell_type": "code",
   "execution_count": null,
   "id": "b691f48b",
   "metadata": {},
   "outputs": [],
   "source": [
    "1. integer - intergers are the real values no.s ex. 1,2,-1, so on\n",
    "2. float - floting point numbers having decimal in it. ex. 1.2, 34.4, 87.9\n",
    "3. boolean - boolean gives us a binary response like True and False only (1,0)"
   ]
  },
  {
   "cell_type": "markdown",
   "id": "65e7e992",
   "metadata": {},
   "source": [
    "#### Q.4 What is an expression made up of? What do all expressions do?"
   ]
  },
  {
   "cell_type": "code",
   "execution_count": 22,
   "id": "28ef2eeb",
   "metadata": {},
   "outputs": [],
   "source": [
    "#expression is made of values and operators\n",
    "# e.g\n",
    "a= 2+3"
   ]
  },
  {
   "cell_type": "code",
   "execution_count": 23,
   "id": "d98817b2",
   "metadata": {},
   "outputs": [
    {
     "data": {
      "text/plain": [
       "5"
      ]
     },
     "execution_count": 23,
     "metadata": {},
     "output_type": "execute_result"
    }
   ],
   "source": [
    "a"
   ]
  },
  {
   "cell_type": "markdown",
   "id": "51fef66c",
   "metadata": {},
   "source": [
    "#### Q.5 This assignment statements, like spam = 10. What is the difference between an expression and a statement?"
   ]
  },
  {
   "cell_type": "code",
   "execution_count": null,
   "id": "a2454796",
   "metadata": {},
   "outputs": [],
   "source": [
    "#  In expression we can produce values and we can assign these values to new variables\n",
    "#  A expression performs some actions such as printing values and loops"
   ]
  },
  {
   "cell_type": "markdown",
   "id": "7d89cfae",
   "metadata": {},
   "source": [
    "#### Q.6 After running the following code, what does the variable bacon contain?\n",
    "bacon = 22\n",
    "\n",
    "bacon + 1\n"
   ]
  },
  {
   "cell_type": "code",
   "execution_count": 2,
   "id": "24442a91",
   "metadata": {},
   "outputs": [
    {
     "data": {
      "text/plain": [
       "23"
      ]
     },
     "execution_count": 2,
     "metadata": {},
     "output_type": "execute_result"
    }
   ],
   "source": [
    "bacon = 22\n",
    "bacon + 1"
   ]
  },
  {
   "cell_type": "markdown",
   "id": "71ecb73d",
   "metadata": {},
   "source": [
    "#### Q.7 What should the values of the following two terms be?\n",
    "'spam' + 'spamspam'\n",
    "\n",
    "'spam' * 3\n"
   ]
  },
  {
   "cell_type": "code",
   "execution_count": 3,
   "id": "03e46de5",
   "metadata": {},
   "outputs": [
    {
     "data": {
      "text/plain": [
       "'spamspamspam'"
      ]
     },
     "execution_count": 3,
     "metadata": {},
     "output_type": "execute_result"
    }
   ],
   "source": [
    "'spam' + 'spamspam'"
   ]
  },
  {
   "cell_type": "code",
   "execution_count": 4,
   "id": "ec21b9bc",
   "metadata": {},
   "outputs": [
    {
     "data": {
      "text/plain": [
       "'spamspamspam'"
      ]
     },
     "execution_count": 4,
     "metadata": {},
     "output_type": "execute_result"
    }
   ],
   "source": [
    "\"spam\" * 3"
   ]
  },
  {
   "cell_type": "markdown",
   "id": "a9221461",
   "metadata": {},
   "source": [
    "#### Q.8 Why is eggs a valid variable name while 100 is invalid?"
   ]
  },
  {
   "cell_type": "code",
   "execution_count": 7,
   "id": "cd54683f",
   "metadata": {},
   "outputs": [],
   "source": [
    "variable can not be numerical. It contain character and alphanumeric characters. And 100 is pure integer, so 100 is invalid\n",
    "while eggs is valid."
   ]
  },
  {
   "cell_type": "markdown",
   "id": "522c28df",
   "metadata": {},
   "source": [
    "#### Q.9 . What three functions can be used to get the integer, floating-point number, or string version of a value?"
   ]
  },
  {
   "cell_type": "code",
   "execution_count": null,
   "id": "c59fe6ce",
   "metadata": {},
   "outputs": [],
   "source": [
    "1. int()\n",
    "2. float()\n",
    "3. str()"
   ]
  },
  {
   "cell_type": "markdown",
   "id": "cac31600",
   "metadata": {},
   "source": [
    "#### Q.10. Why does this expression cause an error? How can you fix it?\n",
    "'I have eaten ' + 99 + ' burritos.'\n"
   ]
  },
  {
   "cell_type": "code",
   "execution_count": 18,
   "id": "05b67733",
   "metadata": {},
   "outputs": [
    {
     "data": {
      "text/plain": [
       "'I have eaten 99 burritos.'"
      ]
     },
     "execution_count": 18,
     "metadata": {},
     "output_type": "execute_result"
    }
   ],
   "source": [
    "'I have eaten ' + str (99) + ' burritos.'"
   ]
  }
 ],
 "metadata": {
  "kernelspec": {
   "display_name": "Python 3 (ipykernel)",
   "language": "python",
   "name": "python3"
  },
  "language_info": {
   "codemirror_mode": {
    "name": "ipython",
    "version": 3
   },
   "file_extension": ".py",
   "mimetype": "text/x-python",
   "name": "python",
   "nbconvert_exporter": "python",
   "pygments_lexer": "ipython3",
   "version": "3.9.12"
  }
 },
 "nbformat": 4,
 "nbformat_minor": 5
}
